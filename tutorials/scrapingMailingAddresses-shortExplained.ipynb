{
 "cells": [
  {
   "cell_type": "markdown",
   "metadata": {},
   "source": [
    "# Web Scraping with Beautiful Soup — A Use Case"
   ]
  },
  {
   "cell_type": "markdown",
   "metadata": {},
   "source": [
    "https://towardsdatascience.com/web-scraping-with-beautiful-soup-a-use-case-fc1c60c8005d\n",
    "\n",
    "In this notebook, I will give a brief introduction to obtaining data from a webpage,\n",
    "i.e., web scraping, using Python and libraries such as Requests to get the data and\n",
    "Beautiful Soup to parse it. Web scraping becomes necessary when a website does not \n",
    "have an API, or one that suits your needs.\n",
    "\n",
    "As an example, I use a webpage that has a consistent HTML structure, but this approach\n",
    "can be generalized. While there are some frameworks, such as Scrapy, that can provide \n",
    "such service, I decided to this as a learning experience.\n",
    "\n",
    "*The Use Case*\n",
    "\n",
    "A not-for-profit organization wants to reach out to the Community Foundations of Canada\n",
    "(CFC) sites across the nation. They asked me to find each contact person and their mailing \n",
    "address, and put all the information in a special format in a spreadsheet.\n",
    "\n",
    "Doing this task manually, by copy-pasting each required field into the spreadsheet, would\n",
    "mean doing this 195 (foundations) * 11 (fields) = 2145 times! So my next thought was to\n",
    "automate the procedure by scraping the CFC website.\n",
    "\n",
    "Below is the code used to scrape their website, get the requested information, and write it\n",
    "in the format requested into a CSV file."
   ]
  },
  {
   "cell_type": "markdown",
   "metadata": {},
   "source": [
    "First let's import the libraries we will be using:\n",
    "\n",
    "*Requests* to query, request, and get all that is contained in the webpage with a particular url and change the header of the request.\n",
    "\n",
    "*Beautiful Soup (bs4)* to be able to manipulate the information obtained.\n",
    "\n",
    "*RegEx* to be able to find text within strings.\n",
    "\n",
    "*Pandas* to be able to create dataframes and be able to manipulate them.\n",
    "\n",
    "*Time* to space-out the requests of information from each url (195 of them). We want our requests to behave as humanly as possible while opening these pages. It would not be polite to create a problem with the website. \n",
    "\n",
    "*Genderize* which connects to a webservice to find if a first name corresponds to a female or a male. And therefore, it would help us create the gender pronoun to address the contact person. Unfortunately, it has a maximum number of requests per hour, so one should not debug a code while calling it.\n",
    "\n",
    "And both *spaCy* and *NLTK* both natural language libraries. If needed."
   ]
  },
  {
   "cell_type": "code",
   "execution_count": 1,
   "metadata": {},
   "outputs": [],
   "source": [
    "# import libraries\n",
    "import requests\n",
    "from requests import get\n",
    "from bs4 import BeautifulSoup\n",
    "import regex as re\n",
    "import csv\n",
    "import pandas as pd\n",
    "import time\n",
    "from genderize import Genderize\n",
    "import nltk\n",
    "from nltk.tokenize import word_tokenize\n",
    "from nltk.tag import pos_tag\n",
    "from nltk.corpus import stopwords\n",
    "import spacy\n",
    "from spacy import displacy\n",
    "from collections import Counter\n",
    "import en_core_web_sm\n",
    "nlp = en_core_web_sm.load()"
   ]
  },
  {
   "cell_type": "markdown",
   "metadata": {},
   "source": [
    "Starting a request session"
   ]
  },
  {
   "cell_type": "code",
   "execution_count": 2,
   "metadata": {},
   "outputs": [],
   "source": [
    "session = requests.Session()"
   ]
  },
  {
   "cell_type": "code",
   "execution_count": 6,
   "metadata": {},
   "outputs": [
    {
     "data": {
      "text/plain": [
       "'python-requests/2.19.1'"
      ]
     },
     "execution_count": 6,
     "metadata": {},
     "output_type": "execute_result"
    }
   ],
   "source": [
    "session.headers['User-Agent']"
   ]
  },
  {
   "cell_type": "markdown",
   "metadata": {},
   "source": [
    "Setting headers to look more human - check https://www.whatismybrowser.com/developers/what-http-headers-is-my-browser-sending"
   ]
  },
  {
   "cell_type": "code",
   "execution_count": 3,
   "metadata": {},
   "outputs": [],
   "source": [
    "my_headers={\"User-Agent\":\"Mozilla/5.0 (Macintosh; Intel Mac OS X 10_14_3)\\\n",
    "              AppleWebKit/537.36 (KHTML, like Gecko) Chrome/71.0.3578.98\\\n",
    "              Safari/537.36\",\n",
    "              \"Accept\":\"text/html,application/xhtml+xml,application/xml;\\\n",
    "              q=0.9,image/webp,image/apng,*/*;q=0.8\"}"
   ]
  },
  {
   "cell_type": "markdown",
   "metadata": {},
   "source": [
    "Let's get the information from their website that contains a list of all the CFCs:"
   ]
  },
  {
   "cell_type": "code",
   "execution_count": 4,
   "metadata": {},
   "outputs": [],
   "source": [
    "url = 'https://communityfoundations.ca/find-a-community-foundation/'\n",
    "response = session.get(url, headers=my_headers)"
   ]
  },
  {
   "cell_type": "markdown",
   "metadata": {},
   "source": [
    "One can view the server response's headers using a Python dictionary:"
   ]
  },
  {
   "cell_type": "code",
   "execution_count": 9,
   "metadata": {},
   "outputs": [
    {
     "data": {
      "text/plain": [
       "{'Connection': 'Keep-Alive', 'Date': 'Wed, 06 Mar 2019 21:41:05 GMT', 'Content-Encoding': 'gzip', 'Keep-Alive': 'timeout=5', 'Content-Type': 'text/html; charset=UTF-8', 'Vary': 'Accept-Encoding,User-Agent', 'Link': '<https://www.communityfoundations.ca/wp-json/>; rel=\"https://api.w.org/\", <https://www.communityfoundations.ca/?p=1070>; rel=shortlink', 'X-Pingback': 'https://www.communityfoundations.ca/xmlrpc.php/', 'Content-Length': '32385', 'Server': 'Apache', 'X-Powered-By': 'PHP/5.6.38'}"
      ]
     },
     "execution_count": 9,
     "metadata": {},
     "output_type": "execute_result"
    }
   ],
   "source": [
    "response.headers"
   ]
  },
  {
   "cell_type": "markdown",
   "metadata": {},
   "source": [
    "As for the first 500 characters obtained:"
   ]
  },
  {
   "cell_type": "code",
   "execution_count": 16,
   "metadata": {},
   "outputs": [
    {
     "data": {
      "text/plain": [
       "'<!doctype html>\\n<!--[if lt IE 7]> <html class=\"no-js ie6 oldie\" lang=\"en-US\" prefix=\"og: http://ogp.me/ns#\"> <![endif]-->\\n<!--[if IE 7]>    <html class=\"no-js ie7 oldie\" lang=\"en-US\" prefix=\"og: http://ogp.me/ns#\"> <![endif]-->\\n<!--[if IE 8]>    <html class=\"no-js ie8 oldie\" lang=\"en-US\" prefix=\"og: http://ogp.me/ns#\"> <![endif]-->\\n<!--[if IE 9]>    <html class=\"no-js ie9 oldie\" lang=\"en-US\" prefix=\"og: http://ogp.me/ns#\"> <![endif]-->\\n<!--[if gt IE 9]><!--> <html class=\"no-js\" lang=\"en-US\" pref'"
      ]
     },
     "execution_count": 16,
     "metadata": {},
     "output_type": "execute_result"
    }
   ],
   "source": [
    "response.text[:500]"
   ]
  },
  {
   "cell_type": "markdown",
   "metadata": {},
   "source": [
    "Now let's get BeautifulSoup to parse it, creating a *bs4.BeautifulSoup* object."
   ]
  },
  {
   "cell_type": "code",
   "execution_count": 20,
   "metadata": {},
   "outputs": [
    {
     "data": {
      "text/plain": [
       "bs4.BeautifulSoup"
      ]
     },
     "execution_count": 20,
     "metadata": {},
     "output_type": "execute_result"
    }
   ],
   "source": [
    "html_soup = BeautifulSoup(response.text, 'html.parser')\n",
    "type(html_soup)"
   ]
  },
  {
   "cell_type": "markdown",
   "metadata": {},
   "source": [
    "By inspecting the source of the website using Chrome, one notices the foundations' names and urls are within *h3* html headers. Therefore, let's find those using bs4."
   ]
  },
  {
   "cell_type": "code",
   "execution_count": 21,
   "metadata": {},
   "outputs": [
    {
     "name": "stdout",
     "output_type": "stream",
     "text": [
      "<class 'bs4.element.ResultSet'>\n",
      "195\n"
     ]
    }
   ],
   "source": [
    "info_containers = html_soup.find_all('h3')\n",
    "print(type(info_containers))\n",
    "print(len(info_containers))"
   ]
  },
  {
   "cell_type": "markdown",
   "metadata": {},
   "source": [
    "This gives us 195 containers, and inspecting the first one of them:"
   ]
  },
  {
   "cell_type": "code",
   "execution_count": 22,
   "metadata": {},
   "outputs": [
    {
     "data": {
      "text/plain": [
       "<h3><a href=\"https://www.communityfoundations.ca/cfc_locations/wood-buffalo-community-foundation/\">Wood Buffalo Community Foundation</a></h3>"
      ]
     },
     "execution_count": 22,
     "metadata": {},
     "output_type": "execute_result"
    }
   ],
   "source": [
    "first_cfc = info_containers[0]\n",
    "first_cfc"
   ]
  },
  {
   "cell_type": "markdown",
   "metadata": {},
   "source": [
    "Shows that we are in the right track, it both gives us the foundation name, by extracting it by appending a *.text* and a url link to further information."
   ]
  },
  {
   "cell_type": "code",
   "execution_count": 23,
   "metadata": {},
   "outputs": [
    {
     "data": {
      "text/plain": [
       "'Wood Buffalo Community Foundation'"
      ]
     },
     "execution_count": 23,
     "metadata": {},
     "output_type": "execute_result"
    }
   ],
   "source": [
    "location_title = first_cfc.text\n",
    "location_title"
   ]
  },
  {
   "cell_type": "markdown",
   "metadata": {},
   "source": [
    "Let's take a peak at the last entry."
   ]
  },
  {
   "cell_type": "code",
   "execution_count": 24,
   "metadata": {},
   "outputs": [
    {
     "data": {
      "text/plain": [
       "<h3><a href=\"https://www.communityfoundations.ca/cfc_locations/south-saskatchewan-community-foundation-inc/\">South Saskatchewan Community Foundation Inc.</a></h3>"
      ]
     },
     "execution_count": 24,
     "metadata": {},
     "output_type": "execute_result"
    }
   ],
   "source": [
    "cfc2 = info_containers[193]\n",
    "cfc2"
   ]
  },
  {
   "cell_type": "markdown",
   "metadata": {},
   "source": [
    "The urls that need further inspection are in *<a href = ...* html containers, so if we find them all via bs4:"
   ]
  },
  {
   "cell_type": "code",
   "execution_count": 25,
   "metadata": {},
   "outputs": [],
   "source": [
    "a_containers = html_soup.find_all('a')"
   ]
  },
  {
   "cell_type": "code",
   "execution_count": 26,
   "metadata": {},
   "outputs": [
    {
     "name": "stdout",
     "output_type": "stream",
     "text": [
      "None\n",
      "None\n",
      "/feed\n",
      "https://twitter.com/CommFdnsCanada\n",
      "https://www.facebook.com/CommunityFdnsCanadaHome\n",
      "https://flickr.com/communityfoundationsofcanada\n",
      "https://youtube.com/user/cfcteam\n",
      "https://www.communityfoundations.ca/fr/find-a-community-foundation/\n",
      "https://www.communityfoundations.ca/\n",
      "https://communityfoundations.ca/news/\n",
      "https://www.communityfoundations.ca/contact-us/\n",
      "https://www.communityfoundations.ca\n",
      "#\n",
      "https://www.communityfoundations.ca/about/\n",
      "https://communityfoundations.ca/wp-content/uploads/2018/08/CFC046_AR2017_Digital_Aug28.pdf\n",
      "https://www.communityfoundations.ca/2016-annual-report/\n",
      "https://www.communityfoundations.ca/contact-us/\n",
      "https://www.communityfoundations.ca/board-of-directors/\n",
      "https://www.communityfoundations.ca/champions/\n",
      "https://www.communityfoundations.ca/find-a-community-foundation/\n",
      "https://www.communityfoundations.ca/careers/\n",
      "#\n",
      "https://www.communityfoundations.ca/our-work/\n",
      "https://www.communityfoundations.ca/conference-2019/\n",
      "https://www.communityfoundations.ca/vitalsigns/\n",
      "https://communityfoundations.ca/our-work/\n",
      "#\n",
      "https://www.communityfoundations.ca/learning-institute/\n",
      "https://www.communityfoundations.ca/foundation-development/\n",
      "https://www.communityfoundations.ca/learning-institute/resource-library/\n",
      "https://communityfoundations.ca/events\n",
      "https://www.communityfoundations.ca/learning-institute/future-forward/\n",
      "https://communityfoundations.ca/data-hub/\n",
      "https://www.communityfoundations.ca/learning-institute/network-benefits/\n",
      "/partners\n",
      "https://www.communityfoundations.ca/about/get-involved/\n",
      "mailto:jpnikota@communityfoundations.ca\n",
      "None\n",
      "https://www.communityfoundations.ca/cfc_locations/wood-buffalo-community-foundation/\n",
      "https://www.communityfoundations.ca/cfc_locations/airdrie-and-district-community-foundation/\n",
      "https://www.communityfoundations.ca/cfc_locations/the-banff-community-foundation/\n",
      "https://www.communityfoundations.ca/cfc_locations/battle-river-community-foundation/\n",
      "https://www.communityfoundations.ca/cfc_locations/community-foundation-of-lethbridge-and-southwestern-alberta/\n",
      "https://www.communityfoundations.ca/cfc_locations/community-foundation-of-northwestern-alberta/\n",
      "https://www.communityfoundations.ca/cfc_locations/community-foundation-of-medicine-hat-and-southeastern-alberta/\n",
      "https://www.communityfoundations.ca/cfc_locations/drayton-valley-community-foundation/\n",
      "https://www.communityfoundations.ca/cfc_locations/edmonton-community-foundation/\n",
      "https://www.communityfoundations.ca/cfc_locations/red-deer-district-community-foundation/\n",
      "https://www.communityfoundations.ca/cfc_locations/st-albert-community-foundation/\n",
      "https://www.communityfoundations.ca/cfc_locations/the-calgary-foundation/\n",
      "https://www.communityfoundations.ca/cfc_locations/abbotsford-community-foundation/\n",
      "https://www.communityfoundations.ca/cfc_locations/alberni-valley-community-foundation/\n",
      "https://www.communityfoundations.ca/cfc_locations/kamloops-foundation/\n",
      "https://www.communityfoundations.ca/cfc_locations/bowen-island-community-foundation/\n",
      "https://www.communityfoundations.ca/cfc_locations/bulkley-valley-community-foundation/\n",
      "https://www.communityfoundations.ca/cfc_locations/campbell-river-community-foundation/\n",
      "https://www.communityfoundations.ca/cfc_locations/central-okanagan-foundation/\n",
      "https://www.communityfoundations.ca/cfc_locations/clayoquot-biosphere-trust/\n",
      "https://www.communityfoundations.ca/cfc_locations/columbia-valley-community-foundation/\n",
      "https://www.communityfoundations.ca/cfc_locations/community-foundation-of-castlegar-district/\n",
      "https://www.communityfoundations.ca/cfc_locations/cranbrook-district-community-foundation/\n",
      "https://www.communityfoundations.ca/cfc_locations/community-foundation-of-the-north-okanagan/\n",
      "https://www.communityfoundations.ca/cfc_locations/community-foundation-of-the-south-okanagan/\n",
      "https://www.communityfoundations.ca/cfc_locations/community-foundation-of-whistler/\n",
      "https://www.communityfoundations.ca/cfc_locations/comox-valley-community-foundation/\n",
      "https://www.communityfoundations.ca/cfc_locations/coquitlam-foundation/\n",
      "https://www.communityfoundations.ca/cfc_locations/creston-kootenay-foundation/\n",
      "https://www.communityfoundations.ca/cfc_locations/delta-foundation/\n",
      "https://www.communityfoundations.ca/cfc_locations/golden-district-community-foundation/\n",
      "https://www.communityfoundations.ca/cfc_locations/haida-gwaii-community-foundation/\n",
      "https://www.communityfoundations.ca/cfc_locations/kimberley-and-district-community-foundation/\n",
      "https://www.communityfoundations.ca/cfc_locations/kitimat-community-foundation/\n",
      "https://www.communityfoundations.ca/cfc_locations/leroi-community-foundation/\n",
      "https://www.communityfoundations.ca/cfc_locations/maple-ridge-community-foundation/\n",
      "https://www.communityfoundations.ca/cfc_locations/mission-community-foundation/\n",
      "https://www.communityfoundations.ca/cfc_locations/nakusp-and-area-community-foundation/\n",
      "https://www.communityfoundations.ca/cfc_locations/the-nanaimo-community-foundation/\n",
      "https://www.communityfoundations.ca/cfc_locations/north-shore-community-foundation/\n",
      "https://www.communityfoundations.ca/cfc_locations/north-thompson-communities-foundation/\n",
      "https://www.communityfoundations.ca/cfc_locations/northeast-regional-community-foundation/\n",
      "https://www.communityfoundations.ca/cfc_locations/osprey-community-foundation/\n",
      "https://www.communityfoundations.ca/cfc_locations/parksville-qualicum-foundation/\n",
      "https://www.communityfoundations.ca/cfc_locations/phoenix-foundation-of-the-boundary-communities/\n",
      "https://www.communityfoundations.ca/cfc_locations/pitt-meadows-community-foundation/\n",
      "https://www.communityfoundations.ca/cfc_locations/port-coquitlam-community-foundation/\n",
      "https://www.communityfoundations.ca/cfc_locations/port-moody-foundation/\n",
      "https://www.communityfoundations.ca/cfc_locations/powell-river-community-foundation/\n",
      "https://www.communityfoundations.ca/cfc_locations/prince-rupert-regional-community-foundation/\n",
      "https://www.communityfoundations.ca/cfc_locations/quesnel-community-foundation/\n",
      "https://www.communityfoundations.ca/cfc_locations/revelstoke-community-foundation/\n",
      "https://www.communityfoundations.ca/cfc_locations/richmond-community-foundation/\n",
      "https://www.communityfoundations.ca/cfc_locations/salt-spring-island-foundation/\n",
      "https://www.communityfoundations.ca/cfc_locations/shuswap-community-foundation/\n",
      "https://www.communityfoundations.ca/cfc_locations/squamish-community-foundation/\n",
      "https://www.communityfoundations.ca/cfc_locations/sunshine-coast-community-foundation/\n",
      "https://www.communityfoundations.ca/cfc_locations/surrey-cares/\n",
      "https://www.communityfoundations.ca/cfc_locations/the-prince-george-community-foundation/\n",
      "https://www.communityfoundations.ca/cfc_locations/thetis-island-community-fund/\n",
      "https://www.communityfoundations.ca/cfc_locations/vancouver-foundation/\n",
      "https://www.communityfoundations.ca/cfc_locations/victoria-foundation/\n",
      "https://www.communityfoundations.ca/cfc_locations/west-vancouver-community-foundation/\n",
      "https://www.communityfoundations.ca/cfc_locations/beautiful-plains-community-foundation-inc/\n",
      "https://www.communityfoundations.ca/cfc_locations/big-grass-community-foundation-inc/\n",
      "https://www.communityfoundations.ca/cfc_locations/birtle-and-district-foundation/\n",
      "https://www.communityfoundations.ca/cfc_locations/brandon-area-community-foundation-inc/\n",
      "https://www.communityfoundations.ca/cfc_locations/brokenhead-river-community-foundation-inc/\n",
      "https://www.communityfoundations.ca/cfc_locations/carberry-and-area-community-foundation-inc/\n",
      "https://www.communityfoundations.ca/cfc_locations/coldwell-community-foundation/\n",
      "https://www.communityfoundations.ca/cfc_locations/community-foundation-of-portage-and-district-inc/\n",
      "https://www.communityfoundations.ca/cfc_locations/community-foundation-of-swan-valley-inc/\n",
      "https://www.communityfoundations.ca/cfc_locations/cypress-river-area-foundation-inc/\n",
      "https://www.communityfoundations.ca/cfc_locations/dauphin-district-community-foundation/\n",
      "https://www.communityfoundations.ca/cfc_locations/elkhorn-area-foundation/\n",
      "https://www.communityfoundations.ca/cfc_locations/francofonds-la-fondation-communautaire-du-manitoba-francais/\n",
      "https://www.communityfoundations.ca/cfc_locations/grandview-district-community-foundation/\n",
      "https://www.communityfoundations.ca/cfc_locations/hamiota-community-foundation/\n",
      "https://www.communityfoundations.ca/cfc_locations/headingley-community-foundation/\n",
      "https://www.communityfoundations.ca/cfc_locations/holland-area-community-foundation-inc/\n",
      "https://www.communityfoundations.ca/cfc_locations/icelandic-river-community-foundation/\n",
      "https://www.communityfoundations.ca/cfc_locations/lac-du-bonnet-and-district-foundation/\n",
      "https://www.communityfoundations.ca/cfc_locations/living-legacy-community-foundation/\n",
      "https://www.communityfoundations.ca/cfc_locations/miami-and-area-foundation-inc/\n",
      "https://www.communityfoundations.ca/cfc_locations/minnedosa-district-foundation-inc/\n",
      "https://www.communityfoundations.ca/cfc_locations/morden-area-foundation-inc/\n",
      "https://www.communityfoundations.ca/cfc_locations/north-norfolk-macgregor-foundation-inc/\n",
      "https://www.communityfoundations.ca/cfc_locations/northern-neighbours-foundation-inc/\n",
      "https://www.communityfoundations.ca/cfc_locations/oak-lake-area-foundation-inc/\n",
      "https://www.communityfoundations.ca/cfc_locations/pembina-manitou-area-foundation-inc/\n",
      "https://www.communityfoundations.ca/cfc_locations/pilot-mound-district-foundation-inc/\n",
      "https://www.communityfoundations.ca/cfc_locations/pinawa-community-foundation-inc/\n",
      "https://www.communityfoundations.ca/cfc_locations/plum-coulee-community-foundation/\n",
      "https://www.communityfoundations.ca/cfc_locations/reston-and-area-foundation-inc/\n",
      "https://www.communityfoundations.ca/cfc_locations/rivers-and-area-community-foundation-inc/\n",
      "https://www.communityfoundations.ca/cfc_locations/roblin-district-community-foundation/\n",
      "https://www.communityfoundations.ca/cfc_locations/selkirk-district-community-foundation/\n",
      "https://www.communityfoundations.ca/cfc_locations/shoal-lake-community-foundation/\n",
      "https://www.communityfoundations.ca/cfc_locations/souris-glenwood-foundation-inc/\n",
      "https://www.communityfoundations.ca/cfc_locations/sturgeon-community-foundation-inc/\n",
      "https://www.communityfoundations.ca/cfc_locations/the-altona-community-foundation-inc/\n",
      "https://www.communityfoundations.ca/cfc_locations/the-boissevain-and-morton-foundation-incorporated/\n",
      "https://www.communityfoundations.ca/cfc_locations/the-carman-area-foundation-inc/\n",
      "https://www.communityfoundations.ca/cfc_locations/the-cartwright-and-area-foundation-inc/\n",
      "https://www.communityfoundations.ca/cfc_locations/the-glenboro-area-foundation-inc/\n",
      "https://www.communityfoundations.ca/cfc_locations/the-interlake-community-foundation-inc/\n",
      "https://www.communityfoundations.ca/cfc_locations/the-killarney-foundation-inc/\n",
      "https://www.communityfoundations.ca/cfc_locations/the-morris-area-foundation-inc/\n",
      "https://www.communityfoundations.ca/cfc_locations/the-southwest-manitoba-regional-foundation/\n",
      "https://www.communityfoundations.ca/cfc_locations/the-steinbach-community-foundation-inc/\n",
      "https://www.communityfoundations.ca/cfc_locations/the-winnipeg-foundation/\n",
      "https://www.communityfoundations.ca/cfc_locations/thompson-community-foundation/\n",
      "https://www.communityfoundations.ca/cfc_locations/tiger-hills-community-foundation-inc/\n",
      "https://www.communityfoundations.ca/cfc_locations/virden-area-foundation-inc/\n",
      "https://www.communityfoundations.ca/cfc_locations/wawanesa-community-foundation-inc/\n",
      "https://www.communityfoundations.ca/cfc_locations/westshore-community-foundation-inc/\n",
      "https://www.communityfoundations.ca/cfc_locations/winkler-community-foundation-inc/\n",
      "https://www.communityfoundations.ca/cfc_locations/carleton-north-community-foundation/\n",
      "https://www.communityfoundations.ca/cfc_locations/fondation-communautaire-de-la-peninsule-acadienne-inc/\n",
      "https://www.communityfoundations.ca/cfc_locations/fredericton-community-foundation-inc/\n",
      "https://www.communityfoundations.ca/cfc_locations/fundy-community-foundation/\n",
      "https://www.communityfoundations.ca/cfc_locations/sussex-area-community-foundation-inc/\n",
      "https://www.communityfoundations.ca/cfc_locations/the-greater-saint-john-community-foundation/\n",
      "https://www.communityfoundations.ca/cfc_locations/community-foundation-of-newfoundland-and-labrador/\n",
      "https://www.communityfoundations.ca/cfc_locations/yellowknife-community-foundation/\n",
      "https://www.communityfoundations.ca/cfc_locations/community-foundation-of-nova-scotia/\n",
      "https://www.communityfoundations.ca/cfc_locations/rural-communities-foundation-of-nova-scotia/\n",
      "https://www.communityfoundations.ca/cfc_locations/ulnooweg-foundation/\n",
      "https://www.communityfoundations.ca/cfc_locations/aylmer-area-community-foundation/\n",
      "https://www.communityfoundations.ca/cfc_locations/barrie-community-foundation/\n",
      "https://www.communityfoundations.ca/cfc_locations/bradford-west-gwillimbury-and-district-community-foundation-bwgdcf/\n",
      "https://www.communityfoundations.ca/cfc_locations/brampton-and-area-community-foundation/\n",
      "https://www.communityfoundations.ca/cfc_locations/brant-community-foundation/\n",
      "https://www.communityfoundations.ca/cfc_locations/brockville-and-area-community-foundation/\n",
      "https://www.communityfoundations.ca/cfc_locations/burlington-community-foundation/\n",
      "https://www.communityfoundations.ca/cfc_locations/caledonia-community-foundation/\n",
      "https://www.communityfoundations.ca/cfc_locations/cambridge-north-dumfries-community-foundation/\n",
      "https://www.communityfoundations.ca/cfc_locations/campbellfordseymour-community-foundation/\n",
      "https://www.communityfoundations.ca/cfc_locations/centre-wellington-community-foundation/\n",
      "https://www.communityfoundations.ca/cfc_locations/community-foundation-for-kingston-area/\n",
      "https://www.communityfoundations.ca/cfc_locations/napanee-district-community-foundation/\n",
      "https://www.communityfoundations.ca/cfc_locations/community-foundation-grey-bruce/\n",
      "https://www.communityfoundations.ca/cfc_locations/community-foundation-of-greater-peterborough/\n",
      "https://www.communityfoundations.ca/cfc_locations/community-foundation-of-halton-north/\n",
      "https://www.communityfoundations.ca/cfc_locations/community-foundation-of-mississauga/\n",
      "https://www.communityfoundations.ca/cfc_locations/durham-community-foundation/\n",
      "https://www.communityfoundations.ca/cfc_locations/elgin-st-thomas-community-foundation/\n",
      "https://www.communityfoundations.ca/cfc_locations/fondation-communautaire-du-temiskaming/\n",
      "https://www.communityfoundations.ca/cfc_locations/forest-community-foundation/\n",
      "https://www.communityfoundations.ca/cfc_locations/grand-bend-community-foundation/\n",
      "https://www.communityfoundations.ca/cfc_locations/hamilton-community-foundation/\n",
      "https://www.communityfoundations.ca/cfc_locations/huronia-community-foundation-la-fondation-communautaire-de-la-huronie/\n",
      "https://www.communityfoundations.ca/cfc_locations/kenora-and-lake-of-the-woods-regional-community-foundation/\n",
      "https://www.communityfoundations.ca/cfc_locations/london-community-foundation/\n",
      "https://www.communityfoundations.ca/cfc_locations/muskoka-community-foundation/\n",
      "https://www.communityfoundations.ca/cfc_locations/niagara-community-foundation/\n",
      "https://www.communityfoundations.ca/cfc_locations/north-bay-and-area-community-foundation/\n",
      "https://www.communityfoundations.ca/cfc_locations/oakville-community-foundation/\n",
      "https://www.communityfoundations.ca/cfc_locations/community-foundation-of-ottawa-fondation-communautaire-dottawa/\n",
      "https://www.communityfoundations.ca/cfc_locations/oxford-community-foundation/\n",
      "https://www.communityfoundations.ca/cfc_locations/pembroke-petawawa-district-community-foundation/\n",
      "https://www.communityfoundations.ca/cfc_locations/sarnia-community-foundation/\n",
      "https://www.communityfoundations.ca/cfc_locations/stratford-and-perth-county-community-foundation/\n",
      "https://www.communityfoundations.ca/cfc_locations/sudbury-community-foundationfondation-communautaire-de-sudbury/\n",
      "https://www.communityfoundations.ca/cfc_locations/the-chatham-kent-community-foundation/\n",
      "https://www.communityfoundations.ca/cfc_locations/the-community-foundation-of-orillia-and-area/\n",
      "https://www.communityfoundations.ca/cfc_locations/prince-edward-county-community-foundation/\n",
      "https://www.communityfoundations.ca/cfc_locations/the-deep-river-and-district-community-foundation/\n",
      "https://www.communityfoundations.ca/cfc_locations/the-dufferin-community-foundation/\n",
      "https://www.communityfoundations.ca/cfc_locations/the-guelph-community-foundation/\n",
      "https://www.communityfoundations.ca/cfc_locations/the-kitchener-and-waterloo-community-foundation/\n",
      "https://www.communityfoundations.ca/cfc_locations/the-norfolk-community-foundation/\n",
      "https://www.communityfoundations.ca/cfc_locations/the-perth-and-district-community-foundation/\n",
      "https://www.communityfoundations.ca/cfc_locations/the-temagami-community-foundation/\n",
      "https://www.communityfoundations.ca/cfc_locations/the-temiskaming-foundation/\n",
      "https://www.communityfoundations.ca/cfc_locations/thunder-bay-community-foundation/\n",
      "https://www.communityfoundations.ca/cfc_locations/toronto-community-foundation/\n",
      "https://www.communityfoundations.ca/cfc_locations/windsoressex-community-foundation/\n",
      "https://www.communityfoundations.ca/cfc_locations/the-community-foundation-of-prince-edward-island/\n",
      "https://www.communityfoundations.ca/cfc_locations/la-fondation-communautaire-de-lestrie/\n",
      "https://www.communityfoundations.ca/cfc_locations/eenou-eeyou-community-foundation/\n",
      "https://www.communityfoundations.ca/cfc_locations/fondation-communautaire-de-labitibi-temiscamingue/\n",
      "https://www.communityfoundations.ca/cfc_locations/fondation-communautaire-de-lanaudi%c2%8fre/\n",
      "https://www.communityfoundations.ca/cfc_locations/fondation-communautaire-du-saguenay-lac-saint-jean/\n",
      "https://www.communityfoundations.ca/cfc_locations/fondation-communautaire-du-saint-maurice/\n",
      "https://www.communityfoundations.ca/cfc_locations/fondation-communautaire-gaspesie-les-eles/\n",
      "https://www.communityfoundations.ca/cfc_locations/fondation-laurentides/\n",
      "https://www.communityfoundations.ca/cfc_locations/fondation-communautaire-du-grand-quebec/\n",
      "https://www.communityfoundations.ca/cfc_locations/la-fondation-du-grand-montrzal-the-foundation-of-greater-montreal/\n",
      "https://www.communityfoundations.ca/cfc_locations/battlefords-and-district-community-foundation-inc/\n",
      "https://www.communityfoundations.ca/cfc_locations/family-friends-community-foundation-inc/\n",
      "https://www.communityfoundations.ca/cfc_locations/prince-albert-and-area-community-foundation-inc/\n",
      "https://www.communityfoundations.ca/cfc_locations/saskatoon-community-foundation/\n",
      "https://www.communityfoundations.ca/cfc_locations/south-saskatchewan-community-foundation-inc/\n",
      "https://www.communityfoundations.ca/cfc_locations/the-yukon-foundation/\n",
      "http://www.communityfoundations.ca\n",
      "/feed\n",
      "https://twitter.com/CommFdnsCanada\n",
      "https://www.facebook.com/CommunityFdnsCanadaHome\n",
      "https://flickr.com/communityfoundationsofcanada\n",
      "https://youtube.com/user/cfcteam\n",
      "/find-a-community-foundation/\n",
      "/events\n",
      "https://www.communityfoundations.ca/contact-us/\n",
      "https://www.communityfoundations.ca/privacy-policy/\n",
      "https://www.communityfoundations.ca/sitemap/\n"
     ]
    }
   ],
   "source": [
    "for tag in a_containers:\n",
    "    print(tag.get('href'))"
   ]
  },
  {
   "cell_type": "markdown",
   "metadata": {},
   "source": [
    "We realize it gives us more information than just the needed urls. So, let's put a constraint to the findings, the url needs to say *cfc_locations*."
   ]
  },
  {
   "cell_type": "code",
   "execution_count": 27,
   "metadata": {},
   "outputs": [],
   "source": [
    "aCF_containers = html_soup.find_all(\"a\", href=re.compile(\"cfc_locations\"))\n"
   ]
  },
  {
   "cell_type": "code",
   "execution_count": 28,
   "metadata": {},
   "outputs": [
    {
     "data": {
      "text/plain": [
       "195"
      ]
     },
     "execution_count": 28,
     "metadata": {},
     "output_type": "execute_result"
    }
   ],
   "source": [
    "len(aCF_containers)"
   ]
  },
  {
   "cell_type": "markdown",
   "metadata": {},
   "source": [
    "And now, we get our 195 objects, but we need to see what they look like:"
   ]
  },
  {
   "cell_type": "code",
   "execution_count": 29,
   "metadata": {},
   "outputs": [
    {
     "data": {
      "text/plain": [
       "<a href=\"https://www.communityfoundations.ca/cfc_locations/souris-glenwood-foundation-inc/\">Souris Glenwood Foundation Inc.</a>"
      ]
     },
     "execution_count": 29,
     "metadata": {},
     "output_type": "execute_result"
    }
   ],
   "source": [
    "aCF_containers[98]"
   ]
  },
  {
   "cell_type": "code",
   "execution_count": 30,
   "metadata": {},
   "outputs": [
    {
     "name": "stdout",
     "output_type": "stream",
     "text": [
      "https://www.communityfoundations.ca/cfc_locations/wood-buffalo-community-foundation/\n",
      "https://www.communityfoundations.ca/cfc_locations/airdrie-and-district-community-foundation/\n",
      "https://www.communityfoundations.ca/cfc_locations/the-banff-community-foundation/\n",
      "https://www.communityfoundations.ca/cfc_locations/battle-river-community-foundation/\n",
      "https://www.communityfoundations.ca/cfc_locations/community-foundation-of-lethbridge-and-southwestern-alberta/\n",
      "https://www.communityfoundations.ca/cfc_locations/community-foundation-of-northwestern-alberta/\n",
      "https://www.communityfoundations.ca/cfc_locations/community-foundation-of-medicine-hat-and-southeastern-alberta/\n",
      "https://www.communityfoundations.ca/cfc_locations/drayton-valley-community-foundation/\n",
      "https://www.communityfoundations.ca/cfc_locations/edmonton-community-foundation/\n",
      "https://www.communityfoundations.ca/cfc_locations/red-deer-district-community-foundation/\n",
      "https://www.communityfoundations.ca/cfc_locations/st-albert-community-foundation/\n",
      "https://www.communityfoundations.ca/cfc_locations/the-calgary-foundation/\n",
      "https://www.communityfoundations.ca/cfc_locations/abbotsford-community-foundation/\n",
      "https://www.communityfoundations.ca/cfc_locations/alberni-valley-community-foundation/\n",
      "https://www.communityfoundations.ca/cfc_locations/kamloops-foundation/\n",
      "https://www.communityfoundations.ca/cfc_locations/bowen-island-community-foundation/\n",
      "https://www.communityfoundations.ca/cfc_locations/bulkley-valley-community-foundation/\n",
      "https://www.communityfoundations.ca/cfc_locations/campbell-river-community-foundation/\n",
      "https://www.communityfoundations.ca/cfc_locations/central-okanagan-foundation/\n",
      "https://www.communityfoundations.ca/cfc_locations/clayoquot-biosphere-trust/\n",
      "https://www.communityfoundations.ca/cfc_locations/columbia-valley-community-foundation/\n",
      "https://www.communityfoundations.ca/cfc_locations/community-foundation-of-castlegar-district/\n",
      "https://www.communityfoundations.ca/cfc_locations/cranbrook-district-community-foundation/\n",
      "https://www.communityfoundations.ca/cfc_locations/community-foundation-of-the-north-okanagan/\n",
      "https://www.communityfoundations.ca/cfc_locations/community-foundation-of-the-south-okanagan/\n",
      "https://www.communityfoundations.ca/cfc_locations/community-foundation-of-whistler/\n",
      "https://www.communityfoundations.ca/cfc_locations/comox-valley-community-foundation/\n",
      "https://www.communityfoundations.ca/cfc_locations/coquitlam-foundation/\n",
      "https://www.communityfoundations.ca/cfc_locations/creston-kootenay-foundation/\n",
      "https://www.communityfoundations.ca/cfc_locations/delta-foundation/\n",
      "https://www.communityfoundations.ca/cfc_locations/golden-district-community-foundation/\n",
      "https://www.communityfoundations.ca/cfc_locations/haida-gwaii-community-foundation/\n",
      "https://www.communityfoundations.ca/cfc_locations/kimberley-and-district-community-foundation/\n",
      "https://www.communityfoundations.ca/cfc_locations/kitimat-community-foundation/\n",
      "https://www.communityfoundations.ca/cfc_locations/leroi-community-foundation/\n",
      "https://www.communityfoundations.ca/cfc_locations/maple-ridge-community-foundation/\n",
      "https://www.communityfoundations.ca/cfc_locations/mission-community-foundation/\n",
      "https://www.communityfoundations.ca/cfc_locations/nakusp-and-area-community-foundation/\n",
      "https://www.communityfoundations.ca/cfc_locations/the-nanaimo-community-foundation/\n",
      "https://www.communityfoundations.ca/cfc_locations/north-shore-community-foundation/\n",
      "https://www.communityfoundations.ca/cfc_locations/north-thompson-communities-foundation/\n",
      "https://www.communityfoundations.ca/cfc_locations/northeast-regional-community-foundation/\n",
      "https://www.communityfoundations.ca/cfc_locations/osprey-community-foundation/\n",
      "https://www.communityfoundations.ca/cfc_locations/parksville-qualicum-foundation/\n",
      "https://www.communityfoundations.ca/cfc_locations/phoenix-foundation-of-the-boundary-communities/\n",
      "https://www.communityfoundations.ca/cfc_locations/pitt-meadows-community-foundation/\n",
      "https://www.communityfoundations.ca/cfc_locations/port-coquitlam-community-foundation/\n",
      "https://www.communityfoundations.ca/cfc_locations/port-moody-foundation/\n",
      "https://www.communityfoundations.ca/cfc_locations/powell-river-community-foundation/\n",
      "https://www.communityfoundations.ca/cfc_locations/prince-rupert-regional-community-foundation/\n",
      "https://www.communityfoundations.ca/cfc_locations/quesnel-community-foundation/\n",
      "https://www.communityfoundations.ca/cfc_locations/revelstoke-community-foundation/\n",
      "https://www.communityfoundations.ca/cfc_locations/richmond-community-foundation/\n",
      "https://www.communityfoundations.ca/cfc_locations/salt-spring-island-foundation/\n",
      "https://www.communityfoundations.ca/cfc_locations/shuswap-community-foundation/\n",
      "https://www.communityfoundations.ca/cfc_locations/squamish-community-foundation/\n",
      "https://www.communityfoundations.ca/cfc_locations/sunshine-coast-community-foundation/\n",
      "https://www.communityfoundations.ca/cfc_locations/surrey-cares/\n",
      "https://www.communityfoundations.ca/cfc_locations/the-prince-george-community-foundation/\n",
      "https://www.communityfoundations.ca/cfc_locations/thetis-island-community-fund/\n",
      "https://www.communityfoundations.ca/cfc_locations/vancouver-foundation/\n",
      "https://www.communityfoundations.ca/cfc_locations/victoria-foundation/\n",
      "https://www.communityfoundations.ca/cfc_locations/west-vancouver-community-foundation/\n",
      "https://www.communityfoundations.ca/cfc_locations/beautiful-plains-community-foundation-inc/\n",
      "https://www.communityfoundations.ca/cfc_locations/big-grass-community-foundation-inc/\n",
      "https://www.communityfoundations.ca/cfc_locations/birtle-and-district-foundation/\n",
      "https://www.communityfoundations.ca/cfc_locations/brandon-area-community-foundation-inc/\n",
      "https://www.communityfoundations.ca/cfc_locations/brokenhead-river-community-foundation-inc/\n",
      "https://www.communityfoundations.ca/cfc_locations/carberry-and-area-community-foundation-inc/\n",
      "https://www.communityfoundations.ca/cfc_locations/coldwell-community-foundation/\n",
      "https://www.communityfoundations.ca/cfc_locations/community-foundation-of-portage-and-district-inc/\n",
      "https://www.communityfoundations.ca/cfc_locations/community-foundation-of-swan-valley-inc/\n",
      "https://www.communityfoundations.ca/cfc_locations/cypress-river-area-foundation-inc/\n",
      "https://www.communityfoundations.ca/cfc_locations/dauphin-district-community-foundation/\n",
      "https://www.communityfoundations.ca/cfc_locations/elkhorn-area-foundation/\n",
      "https://www.communityfoundations.ca/cfc_locations/francofonds-la-fondation-communautaire-du-manitoba-francais/\n",
      "https://www.communityfoundations.ca/cfc_locations/grandview-district-community-foundation/\n",
      "https://www.communityfoundations.ca/cfc_locations/hamiota-community-foundation/\n",
      "https://www.communityfoundations.ca/cfc_locations/headingley-community-foundation/\n",
      "https://www.communityfoundations.ca/cfc_locations/holland-area-community-foundation-inc/\n",
      "https://www.communityfoundations.ca/cfc_locations/icelandic-river-community-foundation/\n",
      "https://www.communityfoundations.ca/cfc_locations/lac-du-bonnet-and-district-foundation/\n",
      "https://www.communityfoundations.ca/cfc_locations/living-legacy-community-foundation/\n",
      "https://www.communityfoundations.ca/cfc_locations/miami-and-area-foundation-inc/\n",
      "https://www.communityfoundations.ca/cfc_locations/minnedosa-district-foundation-inc/\n",
      "https://www.communityfoundations.ca/cfc_locations/morden-area-foundation-inc/\n",
      "https://www.communityfoundations.ca/cfc_locations/north-norfolk-macgregor-foundation-inc/\n",
      "https://www.communityfoundations.ca/cfc_locations/northern-neighbours-foundation-inc/\n",
      "https://www.communityfoundations.ca/cfc_locations/oak-lake-area-foundation-inc/\n",
      "https://www.communityfoundations.ca/cfc_locations/pembina-manitou-area-foundation-inc/\n",
      "https://www.communityfoundations.ca/cfc_locations/pilot-mound-district-foundation-inc/\n",
      "https://www.communityfoundations.ca/cfc_locations/pinawa-community-foundation-inc/\n",
      "https://www.communityfoundations.ca/cfc_locations/plum-coulee-community-foundation/\n",
      "https://www.communityfoundations.ca/cfc_locations/reston-and-area-foundation-inc/\n",
      "https://www.communityfoundations.ca/cfc_locations/rivers-and-area-community-foundation-inc/\n",
      "https://www.communityfoundations.ca/cfc_locations/roblin-district-community-foundation/\n",
      "https://www.communityfoundations.ca/cfc_locations/selkirk-district-community-foundation/\n",
      "https://www.communityfoundations.ca/cfc_locations/shoal-lake-community-foundation/\n",
      "https://www.communityfoundations.ca/cfc_locations/souris-glenwood-foundation-inc/\n",
      "https://www.communityfoundations.ca/cfc_locations/sturgeon-community-foundation-inc/\n",
      "https://www.communityfoundations.ca/cfc_locations/the-altona-community-foundation-inc/\n",
      "https://www.communityfoundations.ca/cfc_locations/the-boissevain-and-morton-foundation-incorporated/\n",
      "https://www.communityfoundations.ca/cfc_locations/the-carman-area-foundation-inc/\n",
      "https://www.communityfoundations.ca/cfc_locations/the-cartwright-and-area-foundation-inc/\n",
      "https://www.communityfoundations.ca/cfc_locations/the-glenboro-area-foundation-inc/\n",
      "https://www.communityfoundations.ca/cfc_locations/the-interlake-community-foundation-inc/\n",
      "https://www.communityfoundations.ca/cfc_locations/the-killarney-foundation-inc/\n",
      "https://www.communityfoundations.ca/cfc_locations/the-morris-area-foundation-inc/\n",
      "https://www.communityfoundations.ca/cfc_locations/the-southwest-manitoba-regional-foundation/\n",
      "https://www.communityfoundations.ca/cfc_locations/the-steinbach-community-foundation-inc/\n",
      "https://www.communityfoundations.ca/cfc_locations/the-winnipeg-foundation/\n",
      "https://www.communityfoundations.ca/cfc_locations/thompson-community-foundation/\n",
      "https://www.communityfoundations.ca/cfc_locations/tiger-hills-community-foundation-inc/\n",
      "https://www.communityfoundations.ca/cfc_locations/virden-area-foundation-inc/\n",
      "https://www.communityfoundations.ca/cfc_locations/wawanesa-community-foundation-inc/\n",
      "https://www.communityfoundations.ca/cfc_locations/westshore-community-foundation-inc/\n",
      "https://www.communityfoundations.ca/cfc_locations/winkler-community-foundation-inc/\n",
      "https://www.communityfoundations.ca/cfc_locations/carleton-north-community-foundation/\n",
      "https://www.communityfoundations.ca/cfc_locations/fondation-communautaire-de-la-peninsule-acadienne-inc/\n",
      "https://www.communityfoundations.ca/cfc_locations/fredericton-community-foundation-inc/\n",
      "https://www.communityfoundations.ca/cfc_locations/fundy-community-foundation/\n",
      "https://www.communityfoundations.ca/cfc_locations/sussex-area-community-foundation-inc/\n",
      "https://www.communityfoundations.ca/cfc_locations/the-greater-saint-john-community-foundation/\n",
      "https://www.communityfoundations.ca/cfc_locations/community-foundation-of-newfoundland-and-labrador/\n",
      "https://www.communityfoundations.ca/cfc_locations/yellowknife-community-foundation/\n",
      "https://www.communityfoundations.ca/cfc_locations/community-foundation-of-nova-scotia/\n",
      "https://www.communityfoundations.ca/cfc_locations/rural-communities-foundation-of-nova-scotia/\n",
      "https://www.communityfoundations.ca/cfc_locations/ulnooweg-foundation/\n",
      "https://www.communityfoundations.ca/cfc_locations/aylmer-area-community-foundation/\n",
      "https://www.communityfoundations.ca/cfc_locations/barrie-community-foundation/\n",
      "https://www.communityfoundations.ca/cfc_locations/bradford-west-gwillimbury-and-district-community-foundation-bwgdcf/\n",
      "https://www.communityfoundations.ca/cfc_locations/brampton-and-area-community-foundation/\n",
      "https://www.communityfoundations.ca/cfc_locations/brant-community-foundation/\n",
      "https://www.communityfoundations.ca/cfc_locations/brockville-and-area-community-foundation/\n",
      "https://www.communityfoundations.ca/cfc_locations/burlington-community-foundation/\n",
      "https://www.communityfoundations.ca/cfc_locations/caledonia-community-foundation/\n",
      "https://www.communityfoundations.ca/cfc_locations/cambridge-north-dumfries-community-foundation/\n",
      "https://www.communityfoundations.ca/cfc_locations/campbellfordseymour-community-foundation/\n",
      "https://www.communityfoundations.ca/cfc_locations/centre-wellington-community-foundation/\n",
      "https://www.communityfoundations.ca/cfc_locations/community-foundation-for-kingston-area/\n",
      "https://www.communityfoundations.ca/cfc_locations/napanee-district-community-foundation/\n",
      "https://www.communityfoundations.ca/cfc_locations/community-foundation-grey-bruce/\n",
      "https://www.communityfoundations.ca/cfc_locations/community-foundation-of-greater-peterborough/\n",
      "https://www.communityfoundations.ca/cfc_locations/community-foundation-of-halton-north/\n",
      "https://www.communityfoundations.ca/cfc_locations/community-foundation-of-mississauga/\n",
      "https://www.communityfoundations.ca/cfc_locations/durham-community-foundation/\n",
      "https://www.communityfoundations.ca/cfc_locations/elgin-st-thomas-community-foundation/\n",
      "https://www.communityfoundations.ca/cfc_locations/fondation-communautaire-du-temiskaming/\n",
      "https://www.communityfoundations.ca/cfc_locations/forest-community-foundation/\n",
      "https://www.communityfoundations.ca/cfc_locations/grand-bend-community-foundation/\n",
      "https://www.communityfoundations.ca/cfc_locations/hamilton-community-foundation/\n",
      "https://www.communityfoundations.ca/cfc_locations/huronia-community-foundation-la-fondation-communautaire-de-la-huronie/\n",
      "https://www.communityfoundations.ca/cfc_locations/kenora-and-lake-of-the-woods-regional-community-foundation/\n",
      "https://www.communityfoundations.ca/cfc_locations/london-community-foundation/\n",
      "https://www.communityfoundations.ca/cfc_locations/muskoka-community-foundation/\n",
      "https://www.communityfoundations.ca/cfc_locations/niagara-community-foundation/\n",
      "https://www.communityfoundations.ca/cfc_locations/north-bay-and-area-community-foundation/\n",
      "https://www.communityfoundations.ca/cfc_locations/oakville-community-foundation/\n",
      "https://www.communityfoundations.ca/cfc_locations/community-foundation-of-ottawa-fondation-communautaire-dottawa/\n",
      "https://www.communityfoundations.ca/cfc_locations/oxford-community-foundation/\n",
      "https://www.communityfoundations.ca/cfc_locations/pembroke-petawawa-district-community-foundation/\n",
      "https://www.communityfoundations.ca/cfc_locations/sarnia-community-foundation/\n",
      "https://www.communityfoundations.ca/cfc_locations/stratford-and-perth-county-community-foundation/\n",
      "https://www.communityfoundations.ca/cfc_locations/sudbury-community-foundationfondation-communautaire-de-sudbury/\n",
      "https://www.communityfoundations.ca/cfc_locations/the-chatham-kent-community-foundation/\n",
      "https://www.communityfoundations.ca/cfc_locations/the-community-foundation-of-orillia-and-area/\n",
      "https://www.communityfoundations.ca/cfc_locations/prince-edward-county-community-foundation/\n",
      "https://www.communityfoundations.ca/cfc_locations/the-deep-river-and-district-community-foundation/\n",
      "https://www.communityfoundations.ca/cfc_locations/the-dufferin-community-foundation/\n",
      "https://www.communityfoundations.ca/cfc_locations/the-guelph-community-foundation/\n",
      "https://www.communityfoundations.ca/cfc_locations/the-kitchener-and-waterloo-community-foundation/\n",
      "https://www.communityfoundations.ca/cfc_locations/the-norfolk-community-foundation/\n",
      "https://www.communityfoundations.ca/cfc_locations/the-perth-and-district-community-foundation/\n",
      "https://www.communityfoundations.ca/cfc_locations/the-temagami-community-foundation/\n",
      "https://www.communityfoundations.ca/cfc_locations/the-temiskaming-foundation/\n",
      "https://www.communityfoundations.ca/cfc_locations/thunder-bay-community-foundation/\n",
      "https://www.communityfoundations.ca/cfc_locations/toronto-community-foundation/\n",
      "https://www.communityfoundations.ca/cfc_locations/windsoressex-community-foundation/\n",
      "https://www.communityfoundations.ca/cfc_locations/the-community-foundation-of-prince-edward-island/\n",
      "https://www.communityfoundations.ca/cfc_locations/la-fondation-communautaire-de-lestrie/\n",
      "https://www.communityfoundations.ca/cfc_locations/eenou-eeyou-community-foundation/\n",
      "https://www.communityfoundations.ca/cfc_locations/fondation-communautaire-de-labitibi-temiscamingue/\n",
      "https://www.communityfoundations.ca/cfc_locations/fondation-communautaire-de-lanaudi%c2%8fre/\n",
      "https://www.communityfoundations.ca/cfc_locations/fondation-communautaire-du-saguenay-lac-saint-jean/\n",
      "https://www.communityfoundations.ca/cfc_locations/fondation-communautaire-du-saint-maurice/\n",
      "https://www.communityfoundations.ca/cfc_locations/fondation-communautaire-gaspesie-les-eles/\n",
      "https://www.communityfoundations.ca/cfc_locations/fondation-laurentides/\n",
      "https://www.communityfoundations.ca/cfc_locations/fondation-communautaire-du-grand-quebec/\n",
      "https://www.communityfoundations.ca/cfc_locations/la-fondation-du-grand-montrzal-the-foundation-of-greater-montreal/\n",
      "https://www.communityfoundations.ca/cfc_locations/battlefords-and-district-community-foundation-inc/\n",
      "https://www.communityfoundations.ca/cfc_locations/family-friends-community-foundation-inc/\n",
      "https://www.communityfoundations.ca/cfc_locations/prince-albert-and-area-community-foundation-inc/\n",
      "https://www.communityfoundations.ca/cfc_locations/saskatoon-community-foundation/\n",
      "https://www.communityfoundations.ca/cfc_locations/south-saskatchewan-community-foundation-inc/\n",
      "https://www.communityfoundations.ca/cfc_locations/the-yukon-foundation/\n"
     ]
    }
   ],
   "source": [
    "for tag in aCF_containers:\n",
    "    print(tag.get('href'))"
   ]
  },
  {
   "cell_type": "markdown",
   "metadata": {},
   "source": [
    "And yes, it seems we have the all only urls we need to inspect in order to get the mailing information. \n",
    "\n",
    "Unfortunately, on further inspection, these urls, while having the contact's name and title in the organization, they have an incomplete mailing address, as it lacks the name of the province or territory. And with that, we need need to find a way to keep the location of the foundation from the main url. \n",
    "\n",
    "By inspecting the source of the page, we know they are in *h2* html headers. However, finding *h2* gives the lines that have *h2* but not the *h3*s that are in between:\n"
   ]
  },
  {
   "cell_type": "code",
   "execution_count": 31,
   "metadata": {
    "scrolled": true
   },
   "outputs": [
    {
     "name": "stdout",
     "output_type": "stream",
     "text": [
      "<class 'bs4.element.ResultSet'>\n",
      "16\n"
     ]
    }
   ],
   "source": [
    "info_containers_byProv = html_soup.find_all('h2')\n",
    "print(type(info_containers_byProv))\n",
    "print(len(info_containers_byProv))"
   ]
  },
  {
   "cell_type": "code",
   "execution_count": 32,
   "metadata": {},
   "outputs": [
    {
     "data": {
      "text/plain": [
       "[<h2 class=\"hidden\">Social Profiles</h2>,\n",
       " <h2>AB</h2>,\n",
       " <h2>Alberta</h2>,\n",
       " <h2>British Columbia</h2>,\n",
       " <h2>Manitoba</h2>,\n",
       " <h2>New Brunswick</h2>,\n",
       " <h2>Newfoundland and Labrador</h2>,\n",
       " <h2>Northwest Territories</h2>,\n",
       " <h2>Nova Scotia</h2>,\n",
       " <h2>Ontario</h2>,\n",
       " <h2>Prince Edward Island</h2>,\n",
       " <h2>Québec</h2>,\n",
       " <h2>Saskatchewan</h2>,\n",
       " <h2>Yukon</h2>,\n",
       " <h2 class=\"hidden\">Mailing List</h2>,\n",
       " <h2 class=\"hidden\">Social Profiles</h2>]"
      ]
     },
     "execution_count": 32,
     "metadata": {},
     "output_type": "execute_result"
    }
   ],
   "source": [
    "info_containers_byProv"
   ]
  },
  {
   "cell_type": "markdown",
   "metadata": {},
   "source": [
    "And even looking for *h2* alone gives other lines. Fortunately, those extra lines have something that can identify them, a *class = \"hidden\"*"
   ]
  },
  {
   "cell_type": "markdown",
   "metadata": {},
   "source": [
    "Therefore, let's look for all the *h2* and *h3* instances that do not have the word 'hidden' (one can use lambda functions!)."
   ]
  },
  {
   "cell_type": "code",
   "execution_count": 33,
   "metadata": {},
   "outputs": [
    {
     "name": "stdout",
     "output_type": "stream",
     "text": [
      "<class 'bs4.element.ResultSet'>\n",
      "208\n"
     ]
    }
   ],
   "source": [
    "info_containers_all = html_soup.find_all([\"h2\", \"h3\"], \n",
    "                                         class_=lambda x: x != 'hidden')\n",
    "print(type(info_containers_all))\n",
    "print(len(info_containers_all))"
   ]
  },
  {
   "cell_type": "code",
   "execution_count": 34,
   "metadata": {},
   "outputs": [
    {
     "data": {
      "text/plain": [
       "[<h2>AB</h2>,\n",
       " <h3><a href=\"https://www.communityfoundations.ca/cfc_locations/wood-buffalo-community-foundation/\">Wood Buffalo Community Foundation</a></h3>,\n",
       " <h2>Alberta</h2>,\n",
       " <h3><a href=\"https://www.communityfoundations.ca/cfc_locations/airdrie-and-district-community-foundation/\">Airdrie and District Community Foundation</a></h3>,\n",
       " <h3><a href=\"https://www.communityfoundations.ca/cfc_locations/the-banff-community-foundation/\">Banff Canmore Community Foundation</a></h3>,\n",
       " <h3><a href=\"https://www.communityfoundations.ca/cfc_locations/battle-river-community-foundation/\">Battle River Community Foundation</a></h3>,\n",
       " <h3><a href=\"https://www.communityfoundations.ca/cfc_locations/community-foundation-of-lethbridge-and-southwestern-alberta/\">Community Foundation of Lethbridge And Southwestern Alberta</a></h3>,\n",
       " <h3><a href=\"https://www.communityfoundations.ca/cfc_locations/community-foundation-of-northwestern-alberta/\">Community Foundation Of Northwestern Alberta</a></h3>,\n",
       " <h3><a href=\"https://www.communityfoundations.ca/cfc_locations/community-foundation-of-medicine-hat-and-southeastern-alberta/\">Community Foundation of Southeastern Alberta</a></h3>,\n",
       " <h3><a href=\"https://www.communityfoundations.ca/cfc_locations/drayton-valley-community-foundation/\">Drayton Valley Community Foundation</a></h3>,\n",
       " <h3><a href=\"https://www.communityfoundations.ca/cfc_locations/edmonton-community-foundation/\">Edmonton Community Foundation</a></h3>,\n",
       " <h3><a href=\"https://www.communityfoundations.ca/cfc_locations/red-deer-district-community-foundation/\">Red Deer &amp; District Community Foundation</a></h3>,\n",
       " <h3><a href=\"https://www.communityfoundations.ca/cfc_locations/st-albert-community-foundation/\">St. Albert Community Foundation</a></h3>,\n",
       " <h3><a href=\"https://www.communityfoundations.ca/cfc_locations/the-calgary-foundation/\">The Calgary Foundation</a></h3>,\n",
       " <h2>British Columbia</h2>,\n",
       " <h3><a href=\"https://www.communityfoundations.ca/cfc_locations/abbotsford-community-foundation/\">Abbotsford Community Foundation</a></h3>,\n",
       " <h3><a href=\"https://www.communityfoundations.ca/cfc_locations/alberni-valley-community-foundation/\">Alberni Valley Community Foundation</a></h3>,\n",
       " <h3><a href=\"https://www.communityfoundations.ca/cfc_locations/kamloops-foundation/\">BC Interior Community Foundation</a></h3>,\n",
       " <h3><a href=\"https://www.communityfoundations.ca/cfc_locations/bowen-island-community-foundation/\">Bowen Island Community Foundation</a></h3>,\n",
       " <h3><a href=\"https://www.communityfoundations.ca/cfc_locations/bulkley-valley-community-foundation/\">Bulkley Valley Community Foundation</a></h3>,\n",
       " <h3><a href=\"https://www.communityfoundations.ca/cfc_locations/campbell-river-community-foundation/\">Campbell River Community Foundation</a></h3>,\n",
       " <h3><a href=\"https://www.communityfoundations.ca/cfc_locations/central-okanagan-foundation/\">Central Okanagan Foundation</a></h3>,\n",
       " <h3><a href=\"https://www.communityfoundations.ca/cfc_locations/clayoquot-biosphere-trust/\">Clayoquot Biosphere Trust</a></h3>,\n",
       " <h3><a href=\"https://www.communityfoundations.ca/cfc_locations/columbia-valley-community-foundation/\">Columbia Valley Community Foundation</a></h3>,\n",
       " <h3><a href=\"https://www.communityfoundations.ca/cfc_locations/community-foundation-of-castlegar-district/\">Community Foundation of Castlegar &amp; District</a></h3>,\n",
       " <h3><a href=\"https://www.communityfoundations.ca/cfc_locations/cranbrook-district-community-foundation/\">Community Foundation of the Kootenay Rockies</a></h3>,\n",
       " <h3><a href=\"https://www.communityfoundations.ca/cfc_locations/community-foundation-of-the-north-okanagan/\">Community Foundation of the North Okanagan</a></h3>,\n",
       " <h3><a href=\"https://www.communityfoundations.ca/cfc_locations/community-foundation-of-the-south-okanagan/\">Community Foundation of the South Okanagan</a></h3>,\n",
       " <h3><a href=\"https://www.communityfoundations.ca/cfc_locations/community-foundation-of-whistler/\">Community Foundation of Whistler</a></h3>,\n",
       " <h3><a href=\"https://www.communityfoundations.ca/cfc_locations/comox-valley-community-foundation/\">Comox Valley Community Foundation</a></h3>,\n",
       " <h3><a href=\"https://www.communityfoundations.ca/cfc_locations/coquitlam-foundation/\">Coquitlam Foundation</a></h3>,\n",
       " <h3><a href=\"https://www.communityfoundations.ca/cfc_locations/creston-kootenay-foundation/\">Creston – Kootenay Foundation</a></h3>,\n",
       " <h3><a href=\"https://www.communityfoundations.ca/cfc_locations/delta-foundation/\">Delta Foundation</a></h3>,\n",
       " <h3><a href=\"https://www.communityfoundations.ca/cfc_locations/golden-district-community-foundation/\">Golden &amp; District Community Foundation</a></h3>,\n",
       " <h3><a href=\"https://www.communityfoundations.ca/cfc_locations/haida-gwaii-community-foundation/\">Gwaii Trust</a></h3>,\n",
       " <h3><a href=\"https://www.communityfoundations.ca/cfc_locations/kimberley-and-district-community-foundation/\">Kimberley and District Community Foundation</a></h3>,\n",
       " <h3><a href=\"https://www.communityfoundations.ca/cfc_locations/kitimat-community-foundation/\">Kitimat Community Foundation</a></h3>,\n",
       " <h3><a href=\"https://www.communityfoundations.ca/cfc_locations/leroi-community-foundation/\">LeRoi Community Foundation</a></h3>,\n",
       " <h3><a href=\"https://www.communityfoundations.ca/cfc_locations/maple-ridge-community-foundation/\">Maple Ridge Community Foundation</a></h3>,\n",
       " <h3><a href=\"https://www.communityfoundations.ca/cfc_locations/mission-community-foundation/\">Mission Community Foundation</a></h3>,\n",
       " <h3><a href=\"https://www.communityfoundations.ca/cfc_locations/nakusp-and-area-community-foundation/\">Nakusp and Area Community Foundation</a></h3>,\n",
       " <h3><a href=\"https://www.communityfoundations.ca/cfc_locations/the-nanaimo-community-foundation/\">Nanaimo Foundation</a></h3>,\n",
       " <h3><a href=\"https://www.communityfoundations.ca/cfc_locations/north-shore-community-foundation/\">North Shore Community Foundation</a></h3>,\n",
       " <h3><a href=\"https://www.communityfoundations.ca/cfc_locations/north-thompson-communities-foundation/\">North Thompson Communities Foundation</a></h3>,\n",
       " <h3><a href=\"https://www.communityfoundations.ca/cfc_locations/northeast-regional-community-foundation/\">Northeast Regional Community Foundation</a></h3>,\n",
       " <h3><a href=\"https://www.communityfoundations.ca/cfc_locations/osprey-community-foundation/\">Osprey Community Foundation</a></h3>,\n",
       " <h3><a href=\"https://www.communityfoundations.ca/cfc_locations/parksville-qualicum-foundation/\">Parksville-Qualicum Foundation</a></h3>,\n",
       " <h3><a href=\"https://www.communityfoundations.ca/cfc_locations/phoenix-foundation-of-the-boundary-communities/\">Phoenix Foundation of the Boundary Communities</a></h3>,\n",
       " <h3><a href=\"https://www.communityfoundations.ca/cfc_locations/pitt-meadows-community-foundation/\">Pitt Meadows Community Foundation</a></h3>,\n",
       " <h3><a href=\"https://www.communityfoundations.ca/cfc_locations/port-coquitlam-community-foundation/\">Port Coquitlam Community Foundation</a></h3>,\n",
       " <h3><a href=\"https://www.communityfoundations.ca/cfc_locations/port-moody-foundation/\">Port Moody Foundation</a></h3>,\n",
       " <h3><a href=\"https://www.communityfoundations.ca/cfc_locations/powell-river-community-foundation/\">Powell River Community Foundation</a></h3>,\n",
       " <h3><a href=\"https://www.communityfoundations.ca/cfc_locations/prince-rupert-regional-community-foundation/\">Prince Rupert Regional Community Foundation</a></h3>,\n",
       " <h3><a href=\"https://www.communityfoundations.ca/cfc_locations/quesnel-community-foundation/\">Quesnel Community Foundation</a></h3>,\n",
       " <h3><a href=\"https://www.communityfoundations.ca/cfc_locations/revelstoke-community-foundation/\">Revelstoke Community Foundation</a></h3>,\n",
       " <h3><a href=\"https://www.communityfoundations.ca/cfc_locations/richmond-community-foundation/\">Richmond Community Foundation</a></h3>,\n",
       " <h3><a href=\"https://www.communityfoundations.ca/cfc_locations/salt-spring-island-foundation/\">Salt Spring Island Foundation</a></h3>,\n",
       " <h3><a href=\"https://www.communityfoundations.ca/cfc_locations/shuswap-community-foundation/\">Shuswap Community Foundation</a></h3>,\n",
       " <h3><a href=\"https://www.communityfoundations.ca/cfc_locations/squamish-community-foundation/\">Squamish Community Foundation</a></h3>,\n",
       " <h3><a href=\"https://www.communityfoundations.ca/cfc_locations/sunshine-coast-community-foundation/\">Sunshine Coast Community Foundation</a></h3>,\n",
       " <h3><a href=\"https://www.communityfoundations.ca/cfc_locations/surrey-cares/\">SurreyCares</a></h3>,\n",
       " <h3><a href=\"https://www.communityfoundations.ca/cfc_locations/the-prince-george-community-foundation/\">The Prince George Community Foundation</a></h3>,\n",
       " <h3><a href=\"https://www.communityfoundations.ca/cfc_locations/thetis-island-community-fund/\">Thetis Island Community Fund</a></h3>,\n",
       " <h3><a href=\"https://www.communityfoundations.ca/cfc_locations/vancouver-foundation/\">Vancouver Foundation</a></h3>,\n",
       " <h3><a href=\"https://www.communityfoundations.ca/cfc_locations/victoria-foundation/\">Victoria Foundation</a></h3>,\n",
       " <h3><a href=\"https://www.communityfoundations.ca/cfc_locations/west-vancouver-community-foundation/\">West Vancouver Community Foundation</a></h3>,\n",
       " <h2>Manitoba</h2>,\n",
       " <h3><a href=\"https://www.communityfoundations.ca/cfc_locations/beautiful-plains-community-foundation-inc/\">Beautiful Plains Community Foundation Inc.</a></h3>,\n",
       " <h3><a href=\"https://www.communityfoundations.ca/cfc_locations/big-grass-community-foundation-inc/\">Big Grass Community Foundation Inc.</a></h3>,\n",
       " <h3><a href=\"https://www.communityfoundations.ca/cfc_locations/birtle-and-district-foundation/\">Birtle and District Foundation</a></h3>,\n",
       " <h3><a href=\"https://www.communityfoundations.ca/cfc_locations/brandon-area-community-foundation-inc/\">Brandon Area Community Foundation Inc.</a></h3>,\n",
       " <h3><a href=\"https://www.communityfoundations.ca/cfc_locations/brokenhead-river-community-foundation-inc/\">Brokenhead River Community Foundation Inc.</a></h3>,\n",
       " <h3><a href=\"https://www.communityfoundations.ca/cfc_locations/carberry-and-area-community-foundation-inc/\">Carberry and Area Community Foundation Inc.</a></h3>,\n",
       " <h3><a href=\"https://www.communityfoundations.ca/cfc_locations/coldwell-community-foundation/\">Coldwell Community Foundation</a></h3>,\n",
       " <h3><a href=\"https://www.communityfoundations.ca/cfc_locations/community-foundation-of-portage-and-district-inc/\">Community Foundation of Portage and District Inc.</a></h3>,\n",
       " <h3><a href=\"https://www.communityfoundations.ca/cfc_locations/community-foundation-of-swan-valley-inc/\">Community Foundation of Swan Valley Inc.</a></h3>,\n",
       " <h3><a href=\"https://www.communityfoundations.ca/cfc_locations/cypress-river-area-foundation-inc/\">Cypress River &amp; Area Foundation Inc.</a></h3>,\n",
       " <h3><a href=\"https://www.communityfoundations.ca/cfc_locations/dauphin-district-community-foundation/\">Dauphin &amp; District Community Foundation</a></h3>,\n",
       " <h3><a href=\"https://www.communityfoundations.ca/cfc_locations/elkhorn-area-foundation/\">Elkhorn &amp; Area Foundation</a></h3>,\n",
       " <h3><a href=\"https://www.communityfoundations.ca/cfc_locations/francofonds-la-fondation-communautaire-du-manitoba-francais/\">Francofonds – La Fondation Communautaire du Manitoba Francais</a></h3>,\n",
       " <h3><a href=\"https://www.communityfoundations.ca/cfc_locations/grandview-district-community-foundation/\">Grandview &amp; District Community Foundation</a></h3>,\n",
       " <h3><a href=\"https://www.communityfoundations.ca/cfc_locations/hamiota-community-foundation/\">Hamiota Community Foundation</a></h3>,\n",
       " <h3><a href=\"https://www.communityfoundations.ca/cfc_locations/headingley-community-foundation/\">Headingley Community Foundation</a></h3>,\n",
       " <h3><a href=\"https://www.communityfoundations.ca/cfc_locations/holland-area-community-foundation-inc/\">Holland &amp; Area Community Foundation Inc.</a></h3>,\n",
       " <h3><a href=\"https://www.communityfoundations.ca/cfc_locations/icelandic-river-community-foundation/\">Icelandic River Community Foundation</a></h3>,\n",
       " <h3><a href=\"https://www.communityfoundations.ca/cfc_locations/lac-du-bonnet-and-district-foundation/\">Lac du Bonnet and District Foundation</a></h3>,\n",
       " <h3><a href=\"https://www.communityfoundations.ca/cfc_locations/living-legacy-community-foundation/\">Living Legacy Community Foundation</a></h3>,\n",
       " <h3><a href=\"https://www.communityfoundations.ca/cfc_locations/miami-and-area-foundation-inc/\">Miami and Area Foundation Inc.</a></h3>,\n",
       " <h3><a href=\"https://www.communityfoundations.ca/cfc_locations/minnedosa-district-foundation-inc/\">Minnedosa &amp; District Foundation Inc.</a></h3>,\n",
       " <h3><a href=\"https://www.communityfoundations.ca/cfc_locations/morden-area-foundation-inc/\">Morden Area Foundation Inc.</a></h3>,\n",
       " <h3><a href=\"https://www.communityfoundations.ca/cfc_locations/north-norfolk-macgregor-foundation-inc/\">North Norfolk – MacGregor Foundation Inc.</a></h3>,\n",
       " <h3><a href=\"https://www.communityfoundations.ca/cfc_locations/northern-neighbours-foundation-inc/\">Northern Neighbours Foundation, Inc.</a></h3>,\n",
       " <h3><a href=\"https://www.communityfoundations.ca/cfc_locations/oak-lake-area-foundation-inc/\">Oak Lake &amp; Area Foundation Inc.</a></h3>,\n",
       " <h3><a href=\"https://www.communityfoundations.ca/cfc_locations/pembina-manitou-area-foundation-inc/\">Pembina – Manitou Area Foundation Inc.</a></h3>,\n",
       " <h3><a href=\"https://www.communityfoundations.ca/cfc_locations/pilot-mound-district-foundation-inc/\">Pilot Mound &amp; District Foundation Inc.</a></h3>,\n",
       " <h3><a href=\"https://www.communityfoundations.ca/cfc_locations/pinawa-community-foundation-inc/\">Pinawa Community Foundation Inc.</a></h3>,\n",
       " <h3><a href=\"https://www.communityfoundations.ca/cfc_locations/plum-coulee-community-foundation/\">Plum Coulee Community Foundation</a></h3>,\n",
       " <h3><a href=\"https://www.communityfoundations.ca/cfc_locations/reston-and-area-foundation-inc/\">Reston and Area Foundation Inc.</a></h3>,\n",
       " <h3><a href=\"https://www.communityfoundations.ca/cfc_locations/rivers-and-area-community-foundation-inc/\">Rivers and Area Community Foundation Inc.</a></h3>,\n",
       " <h3><a href=\"https://www.communityfoundations.ca/cfc_locations/roblin-district-community-foundation/\">Roblin District Community Foundation</a></h3>,\n",
       " <h3><a href=\"https://www.communityfoundations.ca/cfc_locations/selkirk-district-community-foundation/\">Selkirk &amp; District Community Foundation</a></h3>,\n",
       " <h3><a href=\"https://www.communityfoundations.ca/cfc_locations/shoal-lake-community-foundation/\">Shoal Lake Community Foundation</a></h3>,\n",
       " <h3><a href=\"https://www.communityfoundations.ca/cfc_locations/souris-glenwood-foundation-inc/\">Souris Glenwood Foundation Inc.</a></h3>,\n",
       " <h3><a href=\"https://www.communityfoundations.ca/cfc_locations/sturgeon-community-foundation-inc/\">Sturgeon Community Foundation Inc.</a></h3>,\n",
       " <h3><a href=\"https://www.communityfoundations.ca/cfc_locations/the-altona-community-foundation-inc/\">The Altona Community Foundation Inc.</a></h3>,\n",
       " <h3><a href=\"https://www.communityfoundations.ca/cfc_locations/the-boissevain-and-morton-foundation-incorporated/\">The Boissevain and Morton Foundation Incorporated</a></h3>,\n",
       " <h3><a href=\"https://www.communityfoundations.ca/cfc_locations/the-carman-area-foundation-inc/\">The Carman Area Foundation Inc.</a></h3>,\n",
       " <h3><a href=\"https://www.communityfoundations.ca/cfc_locations/the-cartwright-and-area-foundation-inc/\">The Cartwright and Area Foundation Inc.</a></h3>,\n",
       " <h3><a href=\"https://www.communityfoundations.ca/cfc_locations/the-glenboro-area-foundation-inc/\">The Glenboro Area Foundation Inc.</a></h3>,\n",
       " <h3><a href=\"https://www.communityfoundations.ca/cfc_locations/the-interlake-community-foundation-inc/\">The Interlake Community Foundation Inc.</a></h3>,\n",
       " <h3><a href=\"https://www.communityfoundations.ca/cfc_locations/the-killarney-foundation-inc/\">The Killarney Foundation Inc.</a></h3>,\n",
       " <h3><a href=\"https://www.communityfoundations.ca/cfc_locations/the-morris-area-foundation-inc/\">The Morris Area Foundation Inc.</a></h3>,\n",
       " <h3><a href=\"https://www.communityfoundations.ca/cfc_locations/the-southwest-manitoba-regional-foundation/\">The Southwest Manitoba Regional Foundation</a></h3>,\n",
       " <h3><a href=\"https://www.communityfoundations.ca/cfc_locations/the-steinbach-community-foundation-inc/\">The Steinbach Community Foundation Inc.</a></h3>,\n",
       " <h3><a href=\"https://www.communityfoundations.ca/cfc_locations/the-winnipeg-foundation/\">The Winnipeg Foundation</a></h3>,\n",
       " <h3><a href=\"https://www.communityfoundations.ca/cfc_locations/thompson-community-foundation/\">Thompson Community Foundation</a></h3>,\n",
       " <h3><a href=\"https://www.communityfoundations.ca/cfc_locations/tiger-hills-community-foundation-inc/\">Tiger Hills Community Foundation Inc.</a></h3>,\n",
       " <h3><a href=\"https://www.communityfoundations.ca/cfc_locations/virden-area-foundation-inc/\">Virden Area Foundation Inc.</a></h3>,\n",
       " <h3><a href=\"https://www.communityfoundations.ca/cfc_locations/wawanesa-community-foundation-inc/\">Wawanesa Community Foundation Inc.</a></h3>,\n",
       " <h3><a href=\"https://www.communityfoundations.ca/cfc_locations/westshore-community-foundation-inc/\">Westshore Community Foundation Inc.</a></h3>,\n",
       " <h3><a href=\"https://www.communityfoundations.ca/cfc_locations/winkler-community-foundation-inc/\">Winkler Community Foundation Inc.</a></h3>,\n",
       " <h2>New Brunswick</h2>,\n",
       " <h3><a href=\"https://www.communityfoundations.ca/cfc_locations/carleton-north-community-foundation/\">Carleton North Community Foundation</a></h3>,\n",
       " <h3><a href=\"https://www.communityfoundations.ca/cfc_locations/fondation-communautaire-de-la-peninsule-acadienne-inc/\">Fondation communautaire de la Péninsule acadienne Inc.</a></h3>,\n",
       " <h3><a href=\"https://www.communityfoundations.ca/cfc_locations/fredericton-community-foundation-inc/\">Fredericton Community Foundation Inc.</a></h3>,\n",
       " <h3><a href=\"https://www.communityfoundations.ca/cfc_locations/fundy-community-foundation/\">Fundy Community Foundation</a></h3>,\n",
       " <h3><a href=\"https://www.communityfoundations.ca/cfc_locations/sussex-area-community-foundation-inc/\">Sussex Area Community Foundation Inc.</a></h3>,\n",
       " <h3><a href=\"https://www.communityfoundations.ca/cfc_locations/the-greater-saint-john-community-foundation/\">The Greater Saint John Community Foundation</a></h3>,\n",
       " <h2>Newfoundland and Labrador</h2>,\n",
       " <h3><a href=\"https://www.communityfoundations.ca/cfc_locations/community-foundation-of-newfoundland-and-labrador/\">Community Foundation of Newfoundland and Labrador</a></h3>,\n",
       " <h2>Northwest Territories</h2>,\n",
       " <h3><a href=\"https://www.communityfoundations.ca/cfc_locations/yellowknife-community-foundation/\">Yellowknife Community Foundation</a></h3>,\n",
       " <h2>Nova Scotia</h2>,\n",
       " <h3><a href=\"https://www.communityfoundations.ca/cfc_locations/community-foundation-of-nova-scotia/\">Community Foundation of Nova Scotia</a></h3>,\n",
       " <h3><a href=\"https://www.communityfoundations.ca/cfc_locations/rural-communities-foundation-of-nova-scotia/\">Rural Communities Foundation of Nova Scotia</a></h3>,\n",
       " <h3><a href=\"https://www.communityfoundations.ca/cfc_locations/ulnooweg-foundation/\">Ulnooweg Foundation</a></h3>,\n",
       " <h2>Ontario</h2>,\n",
       " <h3><a href=\"https://www.communityfoundations.ca/cfc_locations/aylmer-area-community-foundation/\">Aylmer Area Community Foundation</a></h3>,\n",
       " <h3><a href=\"https://www.communityfoundations.ca/cfc_locations/barrie-community-foundation/\">Barrie Community Foundation</a></h3>,\n",
       " <h3><a href=\"https://www.communityfoundations.ca/cfc_locations/bradford-west-gwillimbury-and-district-community-foundation-bwgdcf/\">Bradford West Gwillimbury and District Community Foundation (BWGDCF)</a></h3>,\n",
       " <h3><a href=\"https://www.communityfoundations.ca/cfc_locations/brampton-and-area-community-foundation/\">Brampton and Area Community Foundation</a></h3>,\n",
       " <h3><a href=\"https://www.communityfoundations.ca/cfc_locations/brant-community-foundation/\">Brant Community Foundation</a></h3>,\n",
       " <h3><a href=\"https://www.communityfoundations.ca/cfc_locations/brockville-and-area-community-foundation/\">Brockville and Area Community Foundation</a></h3>,\n",
       " <h3><a href=\"https://www.communityfoundations.ca/cfc_locations/burlington-community-foundation/\">Burlington Community Foundation</a></h3>,\n",
       " <h3><a href=\"https://www.communityfoundations.ca/cfc_locations/caledonia-community-foundation/\">Caledonia Community Foundation</a></h3>,\n",
       " <h3><a href=\"https://www.communityfoundations.ca/cfc_locations/cambridge-north-dumfries-community-foundation/\">Cambridge &amp; North Dumfries Community Foundation</a></h3>,\n",
       " <h3><a href=\"https://www.communityfoundations.ca/cfc_locations/campbellfordseymour-community-foundation/\">Campbellford/Seymour Community Foundation</a></h3>,\n",
       " <h3><a href=\"https://www.communityfoundations.ca/cfc_locations/centre-wellington-community-foundation/\">Centre Wellington Community Foundation</a></h3>,\n",
       " <h3><a href=\"https://www.communityfoundations.ca/cfc_locations/community-foundation-for-kingston-area/\">Community Foundation for Kingston &amp; Area</a></h3>,\n",
       " <h3><a href=\"https://www.communityfoundations.ca/cfc_locations/napanee-district-community-foundation/\">Community Foundation for Lennox and Addington</a></h3>,\n",
       " <h3><a href=\"https://www.communityfoundations.ca/cfc_locations/community-foundation-grey-bruce/\">Community Foundation Grey Bruce</a></h3>,\n",
       " <h3><a href=\"https://www.communityfoundations.ca/cfc_locations/community-foundation-of-greater-peterborough/\">Community Foundation of Greater Peterborough</a></h3>,\n",
       " <h3><a href=\"https://www.communityfoundations.ca/cfc_locations/community-foundation-of-halton-north/\">Community Foundation of Halton North</a></h3>,\n",
       " <h3><a href=\"https://www.communityfoundations.ca/cfc_locations/community-foundation-of-mississauga/\">Community Foundation of Mississauga</a></h3>,\n",
       " <h3><a href=\"https://www.communityfoundations.ca/cfc_locations/durham-community-foundation/\">Durham Community Foundation</a></h3>,\n",
       " <h3><a href=\"https://www.communityfoundations.ca/cfc_locations/elgin-st-thomas-community-foundation/\">Elgin-St. Thomas Community Foundation</a></h3>,\n",
       " <h3><a href=\"https://www.communityfoundations.ca/cfc_locations/fondation-communautaire-du-temiskaming/\">Fondation Communautaire du Temiskaming</a></h3>,\n",
       " <h3><a href=\"https://www.communityfoundations.ca/cfc_locations/forest-community-foundation/\">Forest Community Foundation</a></h3>,\n",
       " <h3><a href=\"https://www.communityfoundations.ca/cfc_locations/grand-bend-community-foundation/\">Grand Bend Community Foundation</a></h3>,\n",
       " <h3><a href=\"https://www.communityfoundations.ca/cfc_locations/hamilton-community-foundation/\">Hamilton Community Foundation</a></h3>,\n",
       " <h3><a href=\"https://www.communityfoundations.ca/cfc_locations/huronia-community-foundation-la-fondation-communautaire-de-la-huronie/\">Huronia Community Foundation</a></h3>,\n",
       " <h3><a href=\"https://www.communityfoundations.ca/cfc_locations/kenora-and-lake-of-the-woods-regional-community-foundation/\">Kenora and Lake of the Woods Regional Community Foundation</a></h3>,\n",
       " <h3><a href=\"https://www.communityfoundations.ca/cfc_locations/london-community-foundation/\">London Community Foundation</a></h3>,\n",
       " <h3><a href=\"https://www.communityfoundations.ca/cfc_locations/muskoka-community-foundation/\">Muskoka Community Foundation</a></h3>,\n",
       " <h3><a href=\"https://www.communityfoundations.ca/cfc_locations/niagara-community-foundation/\">Niagara Community Foundation</a></h3>,\n",
       " <h3><a href=\"https://www.communityfoundations.ca/cfc_locations/north-bay-and-area-community-foundation/\">North Bay and Area Community Foundation</a></h3>,\n",
       " <h3><a href=\"https://www.communityfoundations.ca/cfc_locations/oakville-community-foundation/\">Oakville Community Foundation</a></h3>,\n",
       " <h3><a href=\"https://www.communityfoundations.ca/cfc_locations/community-foundation-of-ottawa-fondation-communautaire-dottawa/\">Ottawa Community Foundation</a></h3>,\n",
       " <h3><a href=\"https://www.communityfoundations.ca/cfc_locations/oxford-community-foundation/\">Oxford Community Foundation</a></h3>,\n",
       " <h3><a href=\"https://www.communityfoundations.ca/cfc_locations/pembroke-petawawa-district-community-foundation/\">Pembroke Petawawa District Community Foundation</a></h3>,\n",
       " <h3><a href=\"https://www.communityfoundations.ca/cfc_locations/sarnia-community-foundation/\">Sarnia Community Foundation</a></h3>,\n",
       " <h3><a href=\"https://www.communityfoundations.ca/cfc_locations/stratford-and-perth-county-community-foundation/\">Stratford and Perth County Community Foundation</a></h3>,\n",
       " <h3><a href=\"https://www.communityfoundations.ca/cfc_locations/sudbury-community-foundationfondation-communautaire-de-sudbury/\">Sudbury Community Foundation</a></h3>,\n",
       " <h3><a href=\"https://www.communityfoundations.ca/cfc_locations/the-chatham-kent-community-foundation/\">The Chatham Kent Community Foundation</a></h3>,\n",
       " <h3><a href=\"https://www.communityfoundations.ca/cfc_locations/the-community-foundation-of-orillia-and-area/\">The Community Foundation of Orillia and Area</a></h3>,\n",
       " <h3><a href=\"https://www.communityfoundations.ca/cfc_locations/prince-edward-county-community-foundation/\">The County Community Foundation</a></h3>,\n",
       " <h3><a href=\"https://www.communityfoundations.ca/cfc_locations/the-deep-river-and-district-community-foundation/\">The Deep River and District Community Foundation</a></h3>,\n",
       " <h3><a href=\"https://www.communityfoundations.ca/cfc_locations/the-dufferin-community-foundation/\">The Dufferin Community Foundation</a></h3>,\n",
       " <h3><a href=\"https://www.communityfoundations.ca/cfc_locations/the-guelph-community-foundation/\">The Guelph Community Foundation</a></h3>,\n",
       " <h3><a href=\"https://www.communityfoundations.ca/cfc_locations/the-kitchener-and-waterloo-community-foundation/\">The Kitchener and Waterloo Community Foundation</a></h3>,\n",
       " <h3><a href=\"https://www.communityfoundations.ca/cfc_locations/the-norfolk-community-foundation/\">The Norfolk Community Foundation</a></h3>,\n",
       " <h3><a href=\"https://www.communityfoundations.ca/cfc_locations/the-perth-and-district-community-foundation/\">The Perth and District Community Foundation</a></h3>,\n",
       " <h3><a href=\"https://www.communityfoundations.ca/cfc_locations/the-temagami-community-foundation/\">The Temagami Community Foundation</a></h3>,\n",
       " <h3><a href=\"https://www.communityfoundations.ca/cfc_locations/the-temiskaming-foundation/\">The Temiskaming Foundation</a></h3>,\n",
       " <h3><a href=\"https://www.communityfoundations.ca/cfc_locations/thunder-bay-community-foundation/\">Thunder Bay Community Foundation</a></h3>,\n",
       " <h3><a href=\"https://www.communityfoundations.ca/cfc_locations/toronto-community-foundation/\">Toronto Foundation</a></h3>,\n",
       " <h3><a href=\"https://www.communityfoundations.ca/cfc_locations/windsoressex-community-foundation/\">WindsorEssex Community Foundation</a></h3>,\n",
       " <h2>Prince Edward Island</h2>,\n",
       " <h3><a href=\"https://www.communityfoundations.ca/cfc_locations/the-community-foundation-of-prince-edward-island/\">The Community Foundation of Prince Edward Island</a></h3>,\n",
       " <h2>Québec</h2>,\n",
       " <h3><a href=\"https://www.communityfoundations.ca/cfc_locations/la-fondation-communautaire-de-lestrie/\">Eastern Townships Community Foundation</a></h3>,\n",
       " <h3><a href=\"https://www.communityfoundations.ca/cfc_locations/eenou-eeyou-community-foundation/\">Eenou-Eeyou Community Foundation</a></h3>,\n",
       " <h3><a href=\"https://www.communityfoundations.ca/cfc_locations/fondation-communautaire-de-labitibi-temiscamingue/\">Fondation communautaire de l’Abitibi-Temiscamingue</a></h3>,\n",
       " <h3><a href=\"https://www.communityfoundations.ca/cfc_locations/fondation-communautaire-de-lanaudi%c2%8fre/\">Fondation communautaire de Lanaudière</a></h3>,\n",
       " <h3><a href=\"https://www.communityfoundations.ca/cfc_locations/fondation-communautaire-du-saguenay-lac-saint-jean/\">Fondation communautaire du Saguenay-Lac-Saint-Jean</a></h3>,\n",
       " <h3><a href=\"https://www.communityfoundations.ca/cfc_locations/fondation-communautaire-du-saint-maurice/\">Fondation communautaire du Saint-Maurice</a></h3>,\n",
       " <h3><a href=\"https://www.communityfoundations.ca/cfc_locations/fondation-communautaire-gaspesie-les-eles/\">Fondation communautaire Gaspésie – Les Îles</a></h3>,\n",
       " <h3><a href=\"https://www.communityfoundations.ca/cfc_locations/fondation-laurentides/\">Fondation Laurentides</a></h3>,\n",
       " <h3><a href=\"https://www.communityfoundations.ca/cfc_locations/fondation-communautaire-du-grand-quebec/\">Fondation Québec Philanthrope</a></h3>,\n",
       " <h3><a href=\"https://www.communityfoundations.ca/cfc_locations/la-fondation-du-grand-montrzal-the-foundation-of-greater-montreal/\">The Foundation of Greater Montreal</a></h3>,\n",
       " <h2>Saskatchewan</h2>,\n",
       " <h3><a href=\"https://www.communityfoundations.ca/cfc_locations/battlefords-and-district-community-foundation-inc/\">Battlefords and District Community Foundation Inc.</a></h3>,\n",
       " <h3><a href=\"https://www.communityfoundations.ca/cfc_locations/family-friends-community-foundation-inc/\">Family &amp; Friends Community Foundation Inc.</a></h3>,\n",
       " <h3><a href=\"https://www.communityfoundations.ca/cfc_locations/prince-albert-and-area-community-foundation-inc/\">Prince Albert and Area Community Foundation Inc.</a></h3>,\n",
       " <h3><a href=\"https://www.communityfoundations.ca/cfc_locations/saskatoon-community-foundation/\">Saskatoon Community Foundation</a></h3>,\n",
       " <h3><a href=\"https://www.communityfoundations.ca/cfc_locations/south-saskatchewan-community-foundation-inc/\">South Saskatchewan Community Foundation Inc.</a></h3>,\n",
       " <h2>Yukon</h2>,\n",
       " <h3><a href=\"https://www.communityfoundations.ca/cfc_locations/the-yukon-foundation/\">The Yukon Foundation</a></h3>]"
      ]
     },
     "execution_count": 34,
     "metadata": {},
     "output_type": "execute_result"
    }
   ],
   "source": [
    "info_containers_all"
   ]
  },
  {
   "cell_type": "markdown",
   "metadata": {},
   "source": [
    "Now we have the lines that contain the province/territory, foundation name, and the urls to be inspected. \n",
    "\n",
    "Let's find out how to extract those pieces of information. The *.text* of the *h2* lines gives us the province/territory name -- from now, it would be identified only by *province*.\n",
    "\n",
    "The *h3* lines' text will be the foundation name, but not the url. Therefore, within each of those lines, get the *href* in the *<a*  block if it has the phrase *cfc_locations*."
   ]
  },
  {
   "cell_type": "code",
   "execution_count": 48,
   "metadata": {},
   "outputs": [
    {
     "name": "stdout",
     "output_type": "stream",
     "text": [
      "In AB \n",
      "\n",
      "Foundation name: Wood Buffalo Community Foundation\n",
      "Foundation url: https://www.communityfoundations.ca/cfc_locations/wood-buffalo-community-foundation/ \n",
      "\n",
      "In Alberta \n",
      "\n",
      "Foundation name: Airdrie and District Community Foundation\n",
      "Foundation url: https://www.communityfoundations.ca/cfc_locations/airdrie-and-district-community-foundation/ \n",
      "\n",
      "Foundation name: Banff Canmore Community Foundation\n",
      "Foundation url: https://www.communityfoundations.ca/cfc_locations/the-banff-community-foundation/ \n",
      "\n",
      "Foundation name: Battle River Community Foundation\n",
      "Foundation url: https://www.communityfoundations.ca/cfc_locations/battle-river-community-foundation/ \n",
      "\n",
      "Foundation name: Community Foundation of Lethbridge And Southwestern Alberta\n",
      "Foundation url: https://www.communityfoundations.ca/cfc_locations/community-foundation-of-lethbridge-and-southwestern-alberta/ \n",
      "\n",
      "Foundation name: Community Foundation Of Northwestern Alberta\n",
      "Foundation url: https://www.communityfoundations.ca/cfc_locations/community-foundation-of-northwestern-alberta/ \n",
      "\n",
      "Foundation name: Community Foundation of Southeastern Alberta\n",
      "Foundation url: https://www.communityfoundations.ca/cfc_locations/community-foundation-of-medicine-hat-and-southeastern-alberta/ \n",
      "\n",
      "Foundation name: Drayton Valley Community Foundation\n",
      "Foundation url: https://www.communityfoundations.ca/cfc_locations/drayton-valley-community-foundation/ \n",
      "\n",
      "Foundation name: Edmonton Community Foundation\n",
      "Foundation url: https://www.communityfoundations.ca/cfc_locations/edmonton-community-foundation/ \n",
      "\n",
      "Foundation name: Red Deer & District Community Foundation\n",
      "Foundation url: https://www.communityfoundations.ca/cfc_locations/red-deer-district-community-foundation/ \n",
      "\n",
      "Foundation name: St. Albert Community Foundation\n",
      "Foundation url: https://www.communityfoundations.ca/cfc_locations/st-albert-community-foundation/ \n",
      "\n",
      "Foundation name: The Calgary Foundation\n",
      "Foundation url: https://www.communityfoundations.ca/cfc_locations/the-calgary-foundation/ \n",
      "\n",
      "In British Columbia \n",
      "\n",
      "Foundation name: Abbotsford Community Foundation\n",
      "Foundation url: https://www.communityfoundations.ca/cfc_locations/abbotsford-community-foundation/ \n",
      "\n",
      "Foundation name: Alberni Valley Community Foundation\n",
      "Foundation url: https://www.communityfoundations.ca/cfc_locations/alberni-valley-community-foundation/ \n",
      "\n",
      "Foundation name: BC Interior Community Foundation\n",
      "Foundation url: https://www.communityfoundations.ca/cfc_locations/kamloops-foundation/ \n",
      "\n",
      "Foundation name: Bowen Island Community Foundation\n",
      "Foundation url: https://www.communityfoundations.ca/cfc_locations/bowen-island-community-foundation/ \n",
      "\n",
      "Foundation name: Bulkley Valley Community Foundation\n",
      "Foundation url: https://www.communityfoundations.ca/cfc_locations/bulkley-valley-community-foundation/ \n",
      "\n",
      "Foundation name: Campbell River Community Foundation\n",
      "Foundation url: https://www.communityfoundations.ca/cfc_locations/campbell-river-community-foundation/ \n",
      "\n",
      "Foundation name: Central Okanagan Foundation\n",
      "Foundation url: https://www.communityfoundations.ca/cfc_locations/central-okanagan-foundation/ \n",
      "\n",
      "Foundation name: Clayoquot Biosphere Trust\n",
      "Foundation url: https://www.communityfoundations.ca/cfc_locations/clayoquot-biosphere-trust/ \n",
      "\n",
      "Foundation name: Columbia Valley Community Foundation\n",
      "Foundation url: https://www.communityfoundations.ca/cfc_locations/columbia-valley-community-foundation/ \n",
      "\n",
      "Foundation name: Community Foundation of Castlegar & District\n",
      "Foundation url: https://www.communityfoundations.ca/cfc_locations/community-foundation-of-castlegar-district/ \n",
      "\n",
      "Foundation name: Community Foundation of the Kootenay Rockies\n",
      "Foundation url: https://www.communityfoundations.ca/cfc_locations/cranbrook-district-community-foundation/ \n",
      "\n",
      "Foundation name: Community Foundation of the North Okanagan\n",
      "Foundation url: https://www.communityfoundations.ca/cfc_locations/community-foundation-of-the-north-okanagan/ \n",
      "\n",
      "Foundation name: Community Foundation of the South Okanagan\n",
      "Foundation url: https://www.communityfoundations.ca/cfc_locations/community-foundation-of-the-south-okanagan/ \n",
      "\n",
      "Foundation name: Community Foundation of Whistler\n",
      "Foundation url: https://www.communityfoundations.ca/cfc_locations/community-foundation-of-whistler/ \n",
      "\n",
      "Foundation name: Comox Valley Community Foundation\n",
      "Foundation url: https://www.communityfoundations.ca/cfc_locations/comox-valley-community-foundation/ \n",
      "\n",
      "Foundation name: Coquitlam Foundation\n",
      "Foundation url: https://www.communityfoundations.ca/cfc_locations/coquitlam-foundation/ \n",
      "\n",
      "Foundation name: Creston – Kootenay Foundation\n",
      "Foundation url: https://www.communityfoundations.ca/cfc_locations/creston-kootenay-foundation/ \n",
      "\n",
      "Foundation name: Delta Foundation\n",
      "Foundation url: https://www.communityfoundations.ca/cfc_locations/delta-foundation/ \n",
      "\n",
      "Foundation name: Golden & District Community Foundation\n",
      "Foundation url: https://www.communityfoundations.ca/cfc_locations/golden-district-community-foundation/ \n",
      "\n",
      "Foundation name: Gwaii Trust\n",
      "Foundation url: https://www.communityfoundations.ca/cfc_locations/haida-gwaii-community-foundation/ \n",
      "\n",
      "Foundation name: Kimberley and District Community Foundation\n",
      "Foundation url: https://www.communityfoundations.ca/cfc_locations/kimberley-and-district-community-foundation/ \n",
      "\n",
      "Foundation name: Kitimat Community Foundation\n",
      "Foundation url: https://www.communityfoundations.ca/cfc_locations/kitimat-community-foundation/ \n",
      "\n",
      "Foundation name: LeRoi Community Foundation\n",
      "Foundation url: https://www.communityfoundations.ca/cfc_locations/leroi-community-foundation/ \n",
      "\n",
      "Foundation name: Maple Ridge Community Foundation\n",
      "Foundation url: https://www.communityfoundations.ca/cfc_locations/maple-ridge-community-foundation/ \n",
      "\n",
      "Foundation name: Mission Community Foundation\n",
      "Foundation url: https://www.communityfoundations.ca/cfc_locations/mission-community-foundation/ \n",
      "\n",
      "Foundation name: Nakusp and Area Community Foundation\n",
      "Foundation url: https://www.communityfoundations.ca/cfc_locations/nakusp-and-area-community-foundation/ \n",
      "\n",
      "Foundation name: Nanaimo Foundation\n",
      "Foundation url: https://www.communityfoundations.ca/cfc_locations/the-nanaimo-community-foundation/ \n",
      "\n",
      "Foundation name: North Shore Community Foundation\n",
      "Foundation url: https://www.communityfoundations.ca/cfc_locations/north-shore-community-foundation/ \n",
      "\n",
      "Foundation name: North Thompson Communities Foundation\n",
      "Foundation url: https://www.communityfoundations.ca/cfc_locations/north-thompson-communities-foundation/ \n",
      "\n",
      "Foundation name: Northeast Regional Community Foundation\n",
      "Foundation url: https://www.communityfoundations.ca/cfc_locations/northeast-regional-community-foundation/ \n",
      "\n",
      "Foundation name: Osprey Community Foundation\n",
      "Foundation url: https://www.communityfoundations.ca/cfc_locations/osprey-community-foundation/ \n",
      "\n",
      "Foundation name: Parksville-Qualicum Foundation\n",
      "Foundation url: https://www.communityfoundations.ca/cfc_locations/parksville-qualicum-foundation/ \n",
      "\n",
      "Foundation name: Phoenix Foundation of the Boundary Communities\n",
      "Foundation url: https://www.communityfoundations.ca/cfc_locations/phoenix-foundation-of-the-boundary-communities/ \n",
      "\n",
      "Foundation name: Pitt Meadows Community Foundation\n",
      "Foundation url: https://www.communityfoundations.ca/cfc_locations/pitt-meadows-community-foundation/ \n",
      "\n",
      "Foundation name: Port Coquitlam Community Foundation\n",
      "Foundation url: https://www.communityfoundations.ca/cfc_locations/port-coquitlam-community-foundation/ \n",
      "\n",
      "Foundation name: Port Moody Foundation\n",
      "Foundation url: https://www.communityfoundations.ca/cfc_locations/port-moody-foundation/ \n",
      "\n",
      "Foundation name: Powell River Community Foundation\n",
      "Foundation url: https://www.communityfoundations.ca/cfc_locations/powell-river-community-foundation/ \n",
      "\n",
      "Foundation name: Prince Rupert Regional Community Foundation\n",
      "Foundation url: https://www.communityfoundations.ca/cfc_locations/prince-rupert-regional-community-foundation/ \n",
      "\n",
      "Foundation name: Quesnel Community Foundation\n",
      "Foundation url: https://www.communityfoundations.ca/cfc_locations/quesnel-community-foundation/ \n",
      "\n",
      "Foundation name: Revelstoke Community Foundation\n",
      "Foundation url: https://www.communityfoundations.ca/cfc_locations/revelstoke-community-foundation/ \n",
      "\n",
      "Foundation name: Richmond Community Foundation\n",
      "Foundation url: https://www.communityfoundations.ca/cfc_locations/richmond-community-foundation/ \n",
      "\n",
      "Foundation name: Salt Spring Island Foundation\n",
      "Foundation url: https://www.communityfoundations.ca/cfc_locations/salt-spring-island-foundation/ \n",
      "\n",
      "Foundation name: Shuswap Community Foundation\n",
      "Foundation url: https://www.communityfoundations.ca/cfc_locations/shuswap-community-foundation/ \n",
      "\n",
      "Foundation name: Squamish Community Foundation\n",
      "Foundation url: https://www.communityfoundations.ca/cfc_locations/squamish-community-foundation/ \n",
      "\n",
      "Foundation name: Sunshine Coast Community Foundation\n",
      "Foundation url: https://www.communityfoundations.ca/cfc_locations/sunshine-coast-community-foundation/ \n",
      "\n",
      "Foundation name: SurreyCares\n",
      "Foundation url: https://www.communityfoundations.ca/cfc_locations/surrey-cares/ \n",
      "\n",
      "Foundation name: The Prince George Community Foundation\n",
      "Foundation url: https://www.communityfoundations.ca/cfc_locations/the-prince-george-community-foundation/ \n",
      "\n",
      "Foundation name: Thetis Island Community Fund\n",
      "Foundation url: https://www.communityfoundations.ca/cfc_locations/thetis-island-community-fund/ \n",
      "\n",
      "Foundation name: Vancouver Foundation\n",
      "Foundation url: https://www.communityfoundations.ca/cfc_locations/vancouver-foundation/ \n",
      "\n",
      "Foundation name: Victoria Foundation\n",
      "Foundation url: https://www.communityfoundations.ca/cfc_locations/victoria-foundation/ \n",
      "\n",
      "Foundation name: West Vancouver Community Foundation\n",
      "Foundation url: https://www.communityfoundations.ca/cfc_locations/west-vancouver-community-foundation/ \n",
      "\n",
      "In Manitoba \n",
      "\n",
      "Foundation name: Beautiful Plains Community Foundation Inc.\n",
      "Foundation url: https://www.communityfoundations.ca/cfc_locations/beautiful-plains-community-foundation-inc/ \n",
      "\n",
      "Foundation name: Big Grass Community Foundation Inc.\n",
      "Foundation url: https://www.communityfoundations.ca/cfc_locations/big-grass-community-foundation-inc/ \n",
      "\n",
      "Foundation name: Birtle and District Foundation\n",
      "Foundation url: https://www.communityfoundations.ca/cfc_locations/birtle-and-district-foundation/ \n",
      "\n",
      "Foundation name: Brandon Area Community Foundation Inc.\n",
      "Foundation url: https://www.communityfoundations.ca/cfc_locations/brandon-area-community-foundation-inc/ \n",
      "\n",
      "Foundation name: Brokenhead River Community Foundation Inc.\n",
      "Foundation url: https://www.communityfoundations.ca/cfc_locations/brokenhead-river-community-foundation-inc/ \n",
      "\n",
      "Foundation name: Carberry and Area Community Foundation Inc.\n",
      "Foundation url: https://www.communityfoundations.ca/cfc_locations/carberry-and-area-community-foundation-inc/ \n",
      "\n",
      "Foundation name: Coldwell Community Foundation\n",
      "Foundation url: https://www.communityfoundations.ca/cfc_locations/coldwell-community-foundation/ \n",
      "\n",
      "Foundation name: Community Foundation of Portage and District Inc.\n",
      "Foundation url: https://www.communityfoundations.ca/cfc_locations/community-foundation-of-portage-and-district-inc/ \n",
      "\n",
      "Foundation name: Community Foundation of Swan Valley Inc.\n",
      "Foundation url: https://www.communityfoundations.ca/cfc_locations/community-foundation-of-swan-valley-inc/ \n",
      "\n",
      "Foundation name: Cypress River & Area Foundation Inc.\n",
      "Foundation url: https://www.communityfoundations.ca/cfc_locations/cypress-river-area-foundation-inc/ \n",
      "\n",
      "Foundation name: Dauphin & District Community Foundation\n",
      "Foundation url: https://www.communityfoundations.ca/cfc_locations/dauphin-district-community-foundation/ \n",
      "\n",
      "Foundation name: Elkhorn & Area Foundation\n",
      "Foundation url: https://www.communityfoundations.ca/cfc_locations/elkhorn-area-foundation/ \n",
      "\n",
      "Foundation name: Francofonds – La Fondation Communautaire du Manitoba Francais\n",
      "Foundation url: https://www.communityfoundations.ca/cfc_locations/francofonds-la-fondation-communautaire-du-manitoba-francais/ \n",
      "\n",
      "Foundation name: Grandview & District Community Foundation\n",
      "Foundation url: https://www.communityfoundations.ca/cfc_locations/grandview-district-community-foundation/ \n",
      "\n",
      "Foundation name: Hamiota Community Foundation\n",
      "Foundation url: https://www.communityfoundations.ca/cfc_locations/hamiota-community-foundation/ \n",
      "\n",
      "Foundation name: Headingley Community Foundation\n",
      "Foundation url: https://www.communityfoundations.ca/cfc_locations/headingley-community-foundation/ \n",
      "\n",
      "Foundation name: Holland & Area Community Foundation Inc.\n",
      "Foundation url: https://www.communityfoundations.ca/cfc_locations/holland-area-community-foundation-inc/ \n",
      "\n",
      "Foundation name: Icelandic River Community Foundation\n",
      "Foundation url: https://www.communityfoundations.ca/cfc_locations/icelandic-river-community-foundation/ \n",
      "\n",
      "Foundation name: Lac du Bonnet and District Foundation\n",
      "Foundation url: https://www.communityfoundations.ca/cfc_locations/lac-du-bonnet-and-district-foundation/ \n",
      "\n",
      "Foundation name: Living Legacy Community Foundation\n",
      "Foundation url: https://www.communityfoundations.ca/cfc_locations/living-legacy-community-foundation/ \n",
      "\n",
      "Foundation name: Miami and Area Foundation Inc.\n",
      "Foundation url: https://www.communityfoundations.ca/cfc_locations/miami-and-area-foundation-inc/ \n",
      "\n",
      "Foundation name: Minnedosa & District Foundation Inc.\n",
      "Foundation url: https://www.communityfoundations.ca/cfc_locations/minnedosa-district-foundation-inc/ \n",
      "\n",
      "Foundation name: Morden Area Foundation Inc.\n",
      "Foundation url: https://www.communityfoundations.ca/cfc_locations/morden-area-foundation-inc/ \n",
      "\n",
      "Foundation name: North Norfolk – MacGregor Foundation Inc.\n",
      "Foundation url: https://www.communityfoundations.ca/cfc_locations/north-norfolk-macgregor-foundation-inc/ \n",
      "\n",
      "Foundation name: Northern Neighbours Foundation, Inc.\n",
      "Foundation url: https://www.communityfoundations.ca/cfc_locations/northern-neighbours-foundation-inc/ \n",
      "\n",
      "Foundation name: Oak Lake & Area Foundation Inc.\n",
      "Foundation url: https://www.communityfoundations.ca/cfc_locations/oak-lake-area-foundation-inc/ \n",
      "\n",
      "Foundation name: Pembina – Manitou Area Foundation Inc.\n",
      "Foundation url: https://www.communityfoundations.ca/cfc_locations/pembina-manitou-area-foundation-inc/ \n",
      "\n",
      "Foundation name: Pilot Mound & District Foundation Inc.\n",
      "Foundation url: https://www.communityfoundations.ca/cfc_locations/pilot-mound-district-foundation-inc/ \n",
      "\n",
      "Foundation name: Pinawa Community Foundation Inc.\n",
      "Foundation url: https://www.communityfoundations.ca/cfc_locations/pinawa-community-foundation-inc/ \n",
      "\n",
      "Foundation name: Plum Coulee Community Foundation\n",
      "Foundation url: https://www.communityfoundations.ca/cfc_locations/plum-coulee-community-foundation/ \n",
      "\n",
      "Foundation name: Reston and Area Foundation Inc.\n",
      "Foundation url: https://www.communityfoundations.ca/cfc_locations/reston-and-area-foundation-inc/ \n",
      "\n",
      "Foundation name: Rivers and Area Community Foundation Inc.\n",
      "Foundation url: https://www.communityfoundations.ca/cfc_locations/rivers-and-area-community-foundation-inc/ \n",
      "\n",
      "Foundation name: Roblin District Community Foundation\n",
      "Foundation url: https://www.communityfoundations.ca/cfc_locations/roblin-district-community-foundation/ \n",
      "\n",
      "Foundation name: Selkirk & District Community Foundation\n",
      "Foundation url: https://www.communityfoundations.ca/cfc_locations/selkirk-district-community-foundation/ \n",
      "\n",
      "Foundation name: Shoal Lake Community Foundation\n",
      "Foundation url: https://www.communityfoundations.ca/cfc_locations/shoal-lake-community-foundation/ \n",
      "\n",
      "Foundation name: Souris Glenwood Foundation Inc.\n",
      "Foundation url: https://www.communityfoundations.ca/cfc_locations/souris-glenwood-foundation-inc/ \n",
      "\n",
      "Foundation name: Sturgeon Community Foundation Inc.\n",
      "Foundation url: https://www.communityfoundations.ca/cfc_locations/sturgeon-community-foundation-inc/ \n",
      "\n",
      "Foundation name: The Altona Community Foundation Inc.\n",
      "Foundation url: https://www.communityfoundations.ca/cfc_locations/the-altona-community-foundation-inc/ \n",
      "\n",
      "Foundation name: The Boissevain and Morton Foundation Incorporated\n",
      "Foundation url: https://www.communityfoundations.ca/cfc_locations/the-boissevain-and-morton-foundation-incorporated/ \n",
      "\n",
      "Foundation name: The Carman Area Foundation Inc.\n",
      "Foundation url: https://www.communityfoundations.ca/cfc_locations/the-carman-area-foundation-inc/ \n",
      "\n",
      "Foundation name: The Cartwright and Area Foundation Inc.\n",
      "Foundation url: https://www.communityfoundations.ca/cfc_locations/the-cartwright-and-area-foundation-inc/ \n",
      "\n",
      "Foundation name: The Glenboro Area Foundation Inc.\n",
      "Foundation url: https://www.communityfoundations.ca/cfc_locations/the-glenboro-area-foundation-inc/ \n",
      "\n",
      "Foundation name: The Interlake Community Foundation Inc.\n",
      "Foundation url: https://www.communityfoundations.ca/cfc_locations/the-interlake-community-foundation-inc/ \n",
      "\n",
      "Foundation name: The Killarney Foundation Inc.\n",
      "Foundation url: https://www.communityfoundations.ca/cfc_locations/the-killarney-foundation-inc/ \n",
      "\n",
      "Foundation name: The Morris Area Foundation Inc.\n",
      "Foundation url: https://www.communityfoundations.ca/cfc_locations/the-morris-area-foundation-inc/ \n",
      "\n",
      "Foundation name: The Southwest Manitoba Regional Foundation\n",
      "Foundation url: https://www.communityfoundations.ca/cfc_locations/the-southwest-manitoba-regional-foundation/ \n",
      "\n",
      "Foundation name: The Steinbach Community Foundation Inc.\n",
      "Foundation url: https://www.communityfoundations.ca/cfc_locations/the-steinbach-community-foundation-inc/ \n",
      "\n",
      "Foundation name: The Winnipeg Foundation\n",
      "Foundation url: https://www.communityfoundations.ca/cfc_locations/the-winnipeg-foundation/ \n",
      "\n",
      "Foundation name: Thompson Community Foundation\n",
      "Foundation url: https://www.communityfoundations.ca/cfc_locations/thompson-community-foundation/ \n",
      "\n",
      "Foundation name: Tiger Hills Community Foundation Inc.\n",
      "Foundation url: https://www.communityfoundations.ca/cfc_locations/tiger-hills-community-foundation-inc/ \n",
      "\n",
      "Foundation name: Virden Area Foundation Inc.\n",
      "Foundation url: https://www.communityfoundations.ca/cfc_locations/virden-area-foundation-inc/ \n",
      "\n",
      "Foundation name: Wawanesa Community Foundation Inc.\n",
      "Foundation url: https://www.communityfoundations.ca/cfc_locations/wawanesa-community-foundation-inc/ \n",
      "\n",
      "Foundation name: Westshore Community Foundation Inc.\n",
      "Foundation url: https://www.communityfoundations.ca/cfc_locations/westshore-community-foundation-inc/ \n",
      "\n",
      "Foundation name: Winkler Community Foundation Inc.\n",
      "Foundation url: https://www.communityfoundations.ca/cfc_locations/winkler-community-foundation-inc/ \n",
      "\n",
      "In New Brunswick \n",
      "\n",
      "Foundation name: Carleton North Community Foundation\n",
      "Foundation url: https://www.communityfoundations.ca/cfc_locations/carleton-north-community-foundation/ \n",
      "\n",
      "Foundation name: Fondation communautaire de la Péninsule acadienne Inc.\n",
      "Foundation url: https://www.communityfoundations.ca/cfc_locations/fondation-communautaire-de-la-peninsule-acadienne-inc/ \n",
      "\n",
      "Foundation name: Fredericton Community Foundation Inc.\n",
      "Foundation url: https://www.communityfoundations.ca/cfc_locations/fredericton-community-foundation-inc/ \n",
      "\n",
      "Foundation name: Fundy Community Foundation\n",
      "Foundation url: https://www.communityfoundations.ca/cfc_locations/fundy-community-foundation/ \n",
      "\n",
      "Foundation name: Sussex Area Community Foundation Inc.\n",
      "Foundation url: https://www.communityfoundations.ca/cfc_locations/sussex-area-community-foundation-inc/ \n",
      "\n",
      "Foundation name: The Greater Saint John Community Foundation\n",
      "Foundation url: https://www.communityfoundations.ca/cfc_locations/the-greater-saint-john-community-foundation/ \n",
      "\n",
      "In Newfoundland and Labrador \n",
      "\n",
      "Foundation name: Community Foundation of Newfoundland and Labrador\n",
      "Foundation url: https://www.communityfoundations.ca/cfc_locations/community-foundation-of-newfoundland-and-labrador/ \n",
      "\n",
      "In Northwest Territories \n",
      "\n",
      "Foundation name: Yellowknife Community Foundation\n",
      "Foundation url: https://www.communityfoundations.ca/cfc_locations/yellowknife-community-foundation/ \n",
      "\n",
      "In Nova Scotia \n",
      "\n",
      "Foundation name: Community Foundation of Nova Scotia\n",
      "Foundation url: https://www.communityfoundations.ca/cfc_locations/community-foundation-of-nova-scotia/ \n",
      "\n",
      "Foundation name: Rural Communities Foundation of Nova Scotia\n",
      "Foundation url: https://www.communityfoundations.ca/cfc_locations/rural-communities-foundation-of-nova-scotia/ \n",
      "\n",
      "Foundation name: Ulnooweg Foundation\n",
      "Foundation url: https://www.communityfoundations.ca/cfc_locations/ulnooweg-foundation/ \n",
      "\n",
      "In Ontario \n",
      "\n",
      "Foundation name: Aylmer Area Community Foundation\n",
      "Foundation url: https://www.communityfoundations.ca/cfc_locations/aylmer-area-community-foundation/ \n",
      "\n",
      "Foundation name: Barrie Community Foundation\n",
      "Foundation url: https://www.communityfoundations.ca/cfc_locations/barrie-community-foundation/ \n",
      "\n",
      "Foundation name: Bradford West Gwillimbury and District Community Foundation (BWGDCF)\n",
      "Foundation url: https://www.communityfoundations.ca/cfc_locations/bradford-west-gwillimbury-and-district-community-foundation-bwgdcf/ \n",
      "\n",
      "Foundation name: Brampton and Area Community Foundation\n",
      "Foundation url: https://www.communityfoundations.ca/cfc_locations/brampton-and-area-community-foundation/ \n",
      "\n",
      "Foundation name: Brant Community Foundation\n",
      "Foundation url: https://www.communityfoundations.ca/cfc_locations/brant-community-foundation/ \n",
      "\n",
      "Foundation name: Brockville and Area Community Foundation\n",
      "Foundation url: https://www.communityfoundations.ca/cfc_locations/brockville-and-area-community-foundation/ \n",
      "\n",
      "Foundation name: Burlington Community Foundation\n",
      "Foundation url: https://www.communityfoundations.ca/cfc_locations/burlington-community-foundation/ \n",
      "\n",
      "Foundation name: Caledonia Community Foundation\n",
      "Foundation url: https://www.communityfoundations.ca/cfc_locations/caledonia-community-foundation/ \n",
      "\n",
      "Foundation name: Cambridge & North Dumfries Community Foundation\n",
      "Foundation url: https://www.communityfoundations.ca/cfc_locations/cambridge-north-dumfries-community-foundation/ \n",
      "\n",
      "Foundation name: Campbellford/Seymour Community Foundation\n",
      "Foundation url: https://www.communityfoundations.ca/cfc_locations/campbellfordseymour-community-foundation/ \n",
      "\n",
      "Foundation name: Centre Wellington Community Foundation\n",
      "Foundation url: https://www.communityfoundations.ca/cfc_locations/centre-wellington-community-foundation/ \n",
      "\n",
      "Foundation name: Community Foundation for Kingston & Area\n",
      "Foundation url: https://www.communityfoundations.ca/cfc_locations/community-foundation-for-kingston-area/ \n",
      "\n",
      "Foundation name: Community Foundation for Lennox and Addington\n",
      "Foundation url: https://www.communityfoundations.ca/cfc_locations/napanee-district-community-foundation/ \n",
      "\n",
      "Foundation name: Community Foundation Grey Bruce\n",
      "Foundation url: https://www.communityfoundations.ca/cfc_locations/community-foundation-grey-bruce/ \n",
      "\n",
      "Foundation name: Community Foundation of Greater Peterborough\n",
      "Foundation url: https://www.communityfoundations.ca/cfc_locations/community-foundation-of-greater-peterborough/ \n",
      "\n",
      "Foundation name: Community Foundation of Halton North\n",
      "Foundation url: https://www.communityfoundations.ca/cfc_locations/community-foundation-of-halton-north/ \n",
      "\n",
      "Foundation name: Community Foundation of Mississauga\n",
      "Foundation url: https://www.communityfoundations.ca/cfc_locations/community-foundation-of-mississauga/ \n",
      "\n",
      "Foundation name: Durham Community Foundation\n",
      "Foundation url: https://www.communityfoundations.ca/cfc_locations/durham-community-foundation/ \n",
      "\n",
      "Foundation name: Elgin-St. Thomas Community Foundation\n",
      "Foundation url: https://www.communityfoundations.ca/cfc_locations/elgin-st-thomas-community-foundation/ \n",
      "\n",
      "Foundation name: Fondation Communautaire du Temiskaming\n",
      "Foundation url: https://www.communityfoundations.ca/cfc_locations/fondation-communautaire-du-temiskaming/ \n",
      "\n",
      "Foundation name: Forest Community Foundation\n",
      "Foundation url: https://www.communityfoundations.ca/cfc_locations/forest-community-foundation/ \n",
      "\n",
      "Foundation name: Grand Bend Community Foundation\n",
      "Foundation url: https://www.communityfoundations.ca/cfc_locations/grand-bend-community-foundation/ \n",
      "\n",
      "Foundation name: Hamilton Community Foundation\n",
      "Foundation url: https://www.communityfoundations.ca/cfc_locations/hamilton-community-foundation/ \n",
      "\n",
      "Foundation name: Huronia Community Foundation\n",
      "Foundation url: https://www.communityfoundations.ca/cfc_locations/huronia-community-foundation-la-fondation-communautaire-de-la-huronie/ \n",
      "\n",
      "Foundation name: Kenora and Lake of the Woods Regional Community Foundation\n",
      "Foundation url: https://www.communityfoundations.ca/cfc_locations/kenora-and-lake-of-the-woods-regional-community-foundation/ \n",
      "\n",
      "Foundation name: London Community Foundation\n",
      "Foundation url: https://www.communityfoundations.ca/cfc_locations/london-community-foundation/ \n",
      "\n",
      "Foundation name: Muskoka Community Foundation\n",
      "Foundation url: https://www.communityfoundations.ca/cfc_locations/muskoka-community-foundation/ \n",
      "\n",
      "Foundation name: Niagara Community Foundation\n",
      "Foundation url: https://www.communityfoundations.ca/cfc_locations/niagara-community-foundation/ \n",
      "\n",
      "Foundation name: North Bay and Area Community Foundation\n",
      "Foundation url: https://www.communityfoundations.ca/cfc_locations/north-bay-and-area-community-foundation/ \n",
      "\n",
      "Foundation name: Oakville Community Foundation\n",
      "Foundation url: https://www.communityfoundations.ca/cfc_locations/oakville-community-foundation/ \n",
      "\n",
      "Foundation name: Ottawa Community Foundation\n",
      "Foundation url: https://www.communityfoundations.ca/cfc_locations/community-foundation-of-ottawa-fondation-communautaire-dottawa/ \n",
      "\n",
      "Foundation name: Oxford Community Foundation\n",
      "Foundation url: https://www.communityfoundations.ca/cfc_locations/oxford-community-foundation/ \n",
      "\n",
      "Foundation name: Pembroke Petawawa District Community Foundation\n",
      "Foundation url: https://www.communityfoundations.ca/cfc_locations/pembroke-petawawa-district-community-foundation/ \n",
      "\n",
      "Foundation name: Sarnia Community Foundation\n",
      "Foundation url: https://www.communityfoundations.ca/cfc_locations/sarnia-community-foundation/ \n",
      "\n",
      "Foundation name: Stratford and Perth County Community Foundation\n",
      "Foundation url: https://www.communityfoundations.ca/cfc_locations/stratford-and-perth-county-community-foundation/ \n",
      "\n",
      "Foundation name: Sudbury Community Foundation\n",
      "Foundation url: https://www.communityfoundations.ca/cfc_locations/sudbury-community-foundationfondation-communautaire-de-sudbury/ \n",
      "\n",
      "Foundation name: The Chatham Kent Community Foundation\n",
      "Foundation url: https://www.communityfoundations.ca/cfc_locations/the-chatham-kent-community-foundation/ \n",
      "\n",
      "Foundation name: The Community Foundation of Orillia and Area\n",
      "Foundation url: https://www.communityfoundations.ca/cfc_locations/the-community-foundation-of-orillia-and-area/ \n",
      "\n",
      "Foundation name: The County Community Foundation\n",
      "Foundation url: https://www.communityfoundations.ca/cfc_locations/prince-edward-county-community-foundation/ \n",
      "\n",
      "Foundation name: The Deep River and District Community Foundation\n",
      "Foundation url: https://www.communityfoundations.ca/cfc_locations/the-deep-river-and-district-community-foundation/ \n",
      "\n",
      "Foundation name: The Dufferin Community Foundation\n",
      "Foundation url: https://www.communityfoundations.ca/cfc_locations/the-dufferin-community-foundation/ \n",
      "\n",
      "Foundation name: The Guelph Community Foundation\n",
      "Foundation url: https://www.communityfoundations.ca/cfc_locations/the-guelph-community-foundation/ \n",
      "\n",
      "Foundation name: The Kitchener and Waterloo Community Foundation\n",
      "Foundation url: https://www.communityfoundations.ca/cfc_locations/the-kitchener-and-waterloo-community-foundation/ \n",
      "\n",
      "Foundation name: The Norfolk Community Foundation\n",
      "Foundation url: https://www.communityfoundations.ca/cfc_locations/the-norfolk-community-foundation/ \n",
      "\n",
      "Foundation name: The Perth and District Community Foundation\n",
      "Foundation url: https://www.communityfoundations.ca/cfc_locations/the-perth-and-district-community-foundation/ \n",
      "\n",
      "Foundation name: The Temagami Community Foundation\n",
      "Foundation url: https://www.communityfoundations.ca/cfc_locations/the-temagami-community-foundation/ \n",
      "\n",
      "Foundation name: The Temiskaming Foundation\n",
      "Foundation url: https://www.communityfoundations.ca/cfc_locations/the-temiskaming-foundation/ \n",
      "\n",
      "Foundation name: Thunder Bay Community Foundation\n",
      "Foundation url: https://www.communityfoundations.ca/cfc_locations/thunder-bay-community-foundation/ \n",
      "\n",
      "Foundation name: Toronto Foundation\n",
      "Foundation url: https://www.communityfoundations.ca/cfc_locations/toronto-community-foundation/ \n",
      "\n",
      "Foundation name: WindsorEssex Community Foundation\n",
      "Foundation url: https://www.communityfoundations.ca/cfc_locations/windsoressex-community-foundation/ \n",
      "\n",
      "In Prince Edward Island \n",
      "\n",
      "Foundation name: The Community Foundation of Prince Edward Island\n",
      "Foundation url: https://www.communityfoundations.ca/cfc_locations/the-community-foundation-of-prince-edward-island/ \n",
      "\n",
      "In Québec \n",
      "\n",
      "Foundation name: Eastern Townships Community Foundation\n",
      "Foundation url: https://www.communityfoundations.ca/cfc_locations/la-fondation-communautaire-de-lestrie/ \n",
      "\n",
      "Foundation name: Eenou-Eeyou Community Foundation\n",
      "Foundation url: https://www.communityfoundations.ca/cfc_locations/eenou-eeyou-community-foundation/ \n",
      "\n",
      "Foundation name: Fondation communautaire de l’Abitibi-Temiscamingue\n",
      "Foundation url: https://www.communityfoundations.ca/cfc_locations/fondation-communautaire-de-labitibi-temiscamingue/ \n",
      "\n",
      "Foundation name: Fondation communautaire de Lanaudière\n",
      "Foundation url: https://www.communityfoundations.ca/cfc_locations/fondation-communautaire-de-lanaudi%c2%8fre/ \n",
      "\n",
      "Foundation name: Fondation communautaire du Saguenay-Lac-Saint-Jean\n",
      "Foundation url: https://www.communityfoundations.ca/cfc_locations/fondation-communautaire-du-saguenay-lac-saint-jean/ \n",
      "\n",
      "Foundation name: Fondation communautaire du Saint-Maurice\n",
      "Foundation url: https://www.communityfoundations.ca/cfc_locations/fondation-communautaire-du-saint-maurice/ \n",
      "\n",
      "Foundation name: Fondation communautaire Gaspésie – Les Îles\n",
      "Foundation url: https://www.communityfoundations.ca/cfc_locations/fondation-communautaire-gaspesie-les-eles/ \n",
      "\n",
      "Foundation name: Fondation Laurentides\n",
      "Foundation url: https://www.communityfoundations.ca/cfc_locations/fondation-laurentides/ \n",
      "\n",
      "Foundation name: Fondation Québec Philanthrope\n",
      "Foundation url: https://www.communityfoundations.ca/cfc_locations/fondation-communautaire-du-grand-quebec/ \n",
      "\n",
      "Foundation name: The Foundation of Greater Montreal\n",
      "Foundation url: https://www.communityfoundations.ca/cfc_locations/la-fondation-du-grand-montrzal-the-foundation-of-greater-montreal/ \n",
      "\n",
      "In Saskatchewan \n",
      "\n",
      "Foundation name: Battlefords and District Community Foundation Inc.\n",
      "Foundation url: https://www.communityfoundations.ca/cfc_locations/battlefords-and-district-community-foundation-inc/ \n",
      "\n",
      "Foundation name: Family & Friends Community Foundation Inc.\n",
      "Foundation url: https://www.communityfoundations.ca/cfc_locations/family-friends-community-foundation-inc/ \n",
      "\n",
      "Foundation name: Prince Albert and Area Community Foundation Inc.\n",
      "Foundation url: https://www.communityfoundations.ca/cfc_locations/prince-albert-and-area-community-foundation-inc/ \n",
      "\n",
      "Foundation name: Saskatoon Community Foundation\n",
      "Foundation url: https://www.communityfoundations.ca/cfc_locations/saskatoon-community-foundation/ \n",
      "\n",
      "Foundation name: South Saskatchewan Community Foundation Inc.\n",
      "Foundation url: https://www.communityfoundations.ca/cfc_locations/south-saskatchewan-community-foundation-inc/ \n",
      "\n",
      "In Yukon \n",
      "\n",
      "Foundation name: The Yukon Foundation\n",
      "Foundation url: https://www.communityfoundations.ca/cfc_locations/the-yukon-foundation/ \n",
      "\n"
     ]
    }
   ],
   "source": [
    "for lines in info_containers_all:\n",
    "    if lines.name == 'h2': \n",
    "        province = lines.text\n",
    "        print('In', province, \"\\n\")\n",
    "    if lines.name == 'h3':\n",
    "        foundation = lines.text\n",
    "        print('Foundation name:', foundation)   \n",
    "        print('Foundation url:', lines.find_all(\"a\", \n",
    "                        href = re.compile(\"cfc_locations\"))[0].get('href'),\"\\n\")\n",
    "        \n"
   ]
  },
  {
   "cell_type": "markdown",
   "metadata": {},
   "source": [
    "The next step is to inspect a single website of those 195. Get the info and parse it via *bs4*."
   ]
  },
  {
   "cell_type": "code",
   "execution_count": 49,
   "metadata": {},
   "outputs": [],
   "source": [
    "url = 'https://communityfoundations.ca/cfc_locations/the-banff-community-foundation/'\n",
    "subresponse = session.get(url, headers=my_headers)\n",
    "html_subsoup = BeautifulSoup(subresponse.text, 'html.parser')"
   ]
  },
  {
   "cell_type": "markdown",
   "metadata": {},
   "source": [
    "Again, by inspecting the source of the page with Chrome (or any other browser), one finds that the address is in a ('div', class_ = 'single-meta single-event') container:"
   ]
  },
  {
   "cell_type": "code",
   "execution_count": 50,
   "metadata": {},
   "outputs": [
    {
     "name": "stdout",
     "output_type": "stream",
     "text": [
      "<class 'bs4.element.ResultSet'>\n",
      "1\n"
     ]
    }
   ],
   "source": [
    "addr_containers = html_subsoup.find_all('div', class_='single-meta single-event')\n",
    "print(type(addr_containers))\n",
    "print(len(addr_containers))"
   ]
  },
  {
   "cell_type": "markdown",
   "metadata": {},
   "source": [
    "So, by inspecting one, we can also tell that:\n",
    "\n",
    "The street number, P.O. Box or Box, City and Postal code are in a class called *meta-line location*, all separated by vertical bars. \n",
    "\n",
    "The phone is in a class called *meta-line phone*.\n",
    "\n",
    "The particular foundation's website is in a class called *meta-line link*.\n",
    "\n",
    "The contact's name and title are in a class called *meta-line contact*. The title is separated, in almost all cases, by a comma."
   ]
  },
  {
   "cell_type": "code",
   "execution_count": 51,
   "metadata": {},
   "outputs": [
    {
     "data": {
      "text/plain": [
       "<div class=\"single-meta single-event\">\n",
       "<p class=\"meta-line location\">214 Banff Avenue/Box 3100  | Banff | T1L 1C7</p>\n",
       "<p class=\"meta-line phone\"><a href=\"tel:403-762-8549\">403-762-8549</a></p>\n",
       "<p class=\"meta-line link\"><a href=\"http://www.banffcanmorecf.org\">www.banffcanmorecf.org</a></p>\n",
       "<p class=\"meta-line contact\">Rob Buffler, Executive Director</p>\n",
       "</div>"
      ]
     },
     "execution_count": 51,
     "metadata": {},
     "output_type": "execute_result"
    }
   ],
   "source": [
    "first_subcfc = addr_containers[0]\n",
    "first_subcfc"
   ]
  },
  {
   "cell_type": "markdown",
   "metadata": {},
   "source": [
    "Therefore, if we find the html paragraph that includes the phrase 'meta-line contact' and split it at the comma, we would have an array with two elements, first the name, then the title:"
   ]
  },
  {
   "cell_type": "code",
   "execution_count": 52,
   "metadata": {},
   "outputs": [
    {
     "name": "stdout",
     "output_type": "stream",
     "text": [
      "<class 'bs4.element.ResultSet'>\n",
      "1\n"
     ]
    },
    {
     "data": {
      "text/plain": [
       "['Rob Buffler', 'Executive Director']"
      ]
     },
     "execution_count": 52,
     "metadata": {},
     "output_type": "execute_result"
    }
   ],
   "source": [
    "c_contact = html_subsoup.find_all('p', class_='meta-line contact')\n",
    "print(type(c_contact))\n",
    "print(len(c_contact))\n",
    "ctext_contact = c_contact[0]\n",
    "ctext_contact.text\n",
    "c_contact[0].text\n",
    "nameArray = re.split(r', ', c_contact[0].text)\n",
    "nameArray"
   ]
  },
  {
   "cell_type": "code",
   "execution_count": 53,
   "metadata": {},
   "outputs": [
    {
     "name": "stdout",
     "output_type": "stream",
     "text": [
      "<class 'bs4.element.ResultSet'>\n",
      "1\n"
     ]
    },
    {
     "data": {
      "text/plain": [
       "'214 Banff Avenue/Box 3100  | Banff | T1L 1C7'"
      ]
     },
     "execution_count": 53,
     "metadata": {},
     "output_type": "execute_result"
    }
   ],
   "source": [
    "c_location = html_subsoup.find_all('p', class_='meta-line location')\n",
    "print(type(c_location))\n",
    "print(len(c_location))\n",
    "ctext_location = c_location[0]\n",
    "ctext_location.text"
   ]
  },
  {
   "cell_type": "code",
   "execution_count": 57,
   "metadata": {},
   "outputs": [
    {
     "name": "stdout",
     "output_type": "stream",
     "text": [
      "['214 Banff Avenue/Box 3100 ', 'Banff', 'T1L 1C7']\n"
     ]
    }
   ],
   "source": [
    "address_split = re.split(r' \\| ', c_location[0].text)\n",
    "print(address_split)"
   ]
  },
  {
   "cell_type": "markdown",
   "metadata": {},
   "source": [
    "While one can extract the address by spliting it via the vertical bars '|', perhaps this would be a test for both NTK and SpaCy. "
   ]
  },
  {
   "cell_type": "code",
   "execution_count": 65,
   "metadata": {},
   "outputs": [
    {
     "data": {
      "text/plain": [
       "'214 Banff Avenue/Box 3100  | Banff | T1L 1C7'"
      ]
     },
     "execution_count": 65,
     "metadata": {},
     "output_type": "execute_result"
    }
   ],
   "source": [
    "address_test = c_location[0].text\n",
    "address_test"
   ]
  },
  {
   "cell_type": "code",
   "execution_count": 66,
   "metadata": {},
   "outputs": [
    {
     "name": "stdout",
     "output_type": "stream",
     "text": [
      "[nltk_data] Downloading package averaged_perceptron_tagger to\n",
      "[nltk_data]     /Users/bertaerodriguez-milla/nltk_data...\n",
      "[nltk_data]   Package averaged_perceptron_tagger is already up-to-\n",
      "[nltk_data]       date!\n"
     ]
    },
    {
     "data": {
      "text/plain": [
       "True"
      ]
     },
     "execution_count": 66,
     "metadata": {},
     "output_type": "execute_result"
    }
   ],
   "source": [
    "nltk.download('averaged_perceptron_tagger')"
   ]
  },
  {
   "cell_type": "code",
   "execution_count": 70,
   "metadata": {},
   "outputs": [
    {
     "name": "stdout",
     "output_type": "stream",
     "text": [
      "[nltk_data] Downloading package stopwords to /Users/bertaerodriguez-\n",
      "[nltk_data]     milla/nltk_data...\n",
      "[nltk_data]   Package stopwords is already up-to-date!\n"
     ]
    }
   ],
   "source": [
    "nltk.download('stopwords')\n",
    "en_stop = set(nltk.corpus.stopwords.words('english'))"
   ]
  },
  {
   "cell_type": "code",
   "execution_count": 73,
   "metadata": {},
   "outputs": [],
   "source": [
    "def preprocess_without_stopwords(sent):\n",
    "    sent = nltk.word_tokenize(sent)\n",
    "    sent = [word for word in sent if word not in en_stop]\n",
    "    sent = nltk.pos_tag(sent)\n",
    "    return sent"
   ]
  },
  {
   "cell_type": "code",
   "execution_count": 74,
   "metadata": {},
   "outputs": [
    {
     "data": {
      "text/plain": [
       "[('214', 'CD'),\n",
       " ('Banff', 'NNP'),\n",
       " ('Avenue/Box', 'NNP'),\n",
       " ('3100', 'CD'),\n",
       " ('|', 'NNP'),\n",
       " ('Banff', 'NNP'),\n",
       " ('|', 'NNP'),\n",
       " ('T1L', 'NNP'),\n",
       " ('1C7', 'CD')]"
      ]
     },
     "execution_count": 74,
     "metadata": {},
     "output_type": "execute_result"
    }
   ],
   "source": [
    "sent = preprocess_without_stopwords(address_test)\n",
    "sent"
   ]
  },
  {
   "cell_type": "markdown",
   "metadata": {},
   "source": [
    "Tokenizing and tagging with NLTK did not give the proper tags for an address. Banff was identified as a noun, and not as a place, while the postal code was split into two, a proper noun and a number. What about spaCy?"
   ]
  },
  {
   "cell_type": "code",
   "execution_count": 76,
   "metadata": {},
   "outputs": [
    {
     "data": {
      "text/plain": [
       "5"
      ]
     },
     "execution_count": 76,
     "metadata": {},
     "output_type": "execute_result"
    }
   ],
   "source": [
    "article = nlp(address_test)\n",
    "len(article.ents)"
   ]
  },
  {
   "cell_type": "code",
   "execution_count": 77,
   "metadata": {},
   "outputs": [
    {
     "data": {
      "text/plain": [
       "Counter({'CARDINAL': 2, 'FAC': 1, 'PERCENT': 1, 'PERSON': 1})"
      ]
     },
     "execution_count": 77,
     "metadata": {},
     "output_type": "execute_result"
    }
   ],
   "source": [
    "labels = [x.label_ for x in article.ents]\n",
    "Counter(labels)"
   ]
  },
  {
   "cell_type": "code",
   "execution_count": 78,
   "metadata": {},
   "outputs": [
    {
     "name": "stdout",
     "output_type": "stream",
     "text": [
      "214 Banff Avenue/Box 3100  | Banff | T1L 1C7\n"
     ]
    }
   ],
   "source": [
    "sentences = [x for x in article.sents]\n",
    "print(sentences[0])"
   ]
  },
  {
   "cell_type": "code",
   "execution_count": 79,
   "metadata": {},
   "outputs": [
    {
     "data": {
      "text/html": [
       "<div class=\"entities\" style=\"line-height: 2.5\">\n",
       "<mark class=\"entity\" style=\"background: #e4e7d2; padding: 0.45em 0.6em; margin: 0 0.25em; line-height: 1; border-radius: 0.35em; box-decoration-break: clone; -webkit-box-decoration-break: clone\">\n",
       "    214\n",
       "    <span style=\"font-size: 0.8em; font-weight: bold; line-height: 1; border-radius: 0.35em; text-transform: uppercase; vertical-align: middle; margin-left: 0.5rem\">CARDINAL</span>\n",
       "</mark>\n",
       " \n",
       "<mark class=\"entity\" style=\"background: #ddd; padding: 0.45em 0.6em; margin: 0 0.25em; line-height: 1; border-radius: 0.35em; box-decoration-break: clone; -webkit-box-decoration-break: clone\">\n",
       "    Banff Avenue/Box\n",
       "    <span style=\"font-size: 0.8em; font-weight: bold; line-height: 1; border-radius: 0.35em; text-transform: uppercase; vertical-align: middle; margin-left: 0.5rem\">FAC</span>\n",
       "</mark>\n",
       " \n",
       "<mark class=\"entity\" style=\"background: #e4e7d2; padding: 0.45em 0.6em; margin: 0 0.25em; line-height: 1; border-radius: 0.35em; box-decoration-break: clone; -webkit-box-decoration-break: clone\">\n",
       "    3100  \n",
       "    <span style=\"font-size: 0.8em; font-weight: bold; line-height: 1; border-radius: 0.35em; text-transform: uppercase; vertical-align: middle; margin-left: 0.5rem\">PERCENT</span>\n",
       "</mark>\n",
       "| \n",
       "<mark class=\"entity\" style=\"background: #aa9cfc; padding: 0.45em 0.6em; margin: 0 0.25em; line-height: 1; border-radius: 0.35em; box-decoration-break: clone; -webkit-box-decoration-break: clone\">\n",
       "    Banff\n",
       "    <span style=\"font-size: 0.8em; font-weight: bold; line-height: 1; border-radius: 0.35em; text-transform: uppercase; vertical-align: middle; margin-left: 0.5rem\">PERSON</span>\n",
       "</mark>\n",
       " | T1L \n",
       "<mark class=\"entity\" style=\"background: #e4e7d2; padding: 0.45em 0.6em; margin: 0 0.25em; line-height: 1; border-radius: 0.35em; box-decoration-break: clone; -webkit-box-decoration-break: clone\">\n",
       "    1C7\n",
       "    <span style=\"font-size: 0.8em; font-weight: bold; line-height: 1; border-radius: 0.35em; text-transform: uppercase; vertical-align: middle; margin-left: 0.5rem\">CARDINAL</span>\n",
       "</mark>\n",
       "</div>"
      ],
      "text/plain": [
       "<IPython.core.display.HTML object>"
      ]
     },
     "metadata": {},
     "output_type": "display_data"
    }
   ],
   "source": [
    "displacy.render(nlp(str(sentences[0])), jupyter=True, style='ent')"
   ]
  },
  {
   "cell_type": "markdown",
   "metadata": {},
   "source": [
    "In this case, Banff was identified as a person, with the Box number as a percent. While one may be able to polish both approaches to yield better results, in this particular example, it is easier to split the fields by the vertical bar."
   ]
  },
  {
   "cell_type": "markdown",
   "metadata": {},
   "source": [
    "We are now ready to obtain the information from all the websites. We only need to extract this information once as the information will be stored in containers, and therefore, we would leave the section below commented out. Notice we have a 10 second delay between requests. Since this process was not immediate, a print statement was added to make sure the script was still running and not having problems. "
   ]
  },
  {
   "cell_type": "code",
   "execution_count": 80,
   "metadata": {},
   "outputs": [
    {
     "name": "stdout",
     "output_type": "stream",
     "text": [
      "https://www.communityfoundations.ca/cfc_locations/wood-buffalo-community-foundation/\n",
      "https://www.communityfoundations.ca/cfc_locations/airdrie-and-district-community-foundation/\n",
      "https://www.communityfoundations.ca/cfc_locations/the-banff-community-foundation/\n",
      "https://www.communityfoundations.ca/cfc_locations/battle-river-community-foundation/\n",
      "https://www.communityfoundations.ca/cfc_locations/community-foundation-of-lethbridge-and-southwestern-alberta/\n",
      "https://www.communityfoundations.ca/cfc_locations/community-foundation-of-northwestern-alberta/\n",
      "https://www.communityfoundations.ca/cfc_locations/community-foundation-of-medicine-hat-and-southeastern-alberta/\n",
      "https://www.communityfoundations.ca/cfc_locations/drayton-valley-community-foundation/\n",
      "https://www.communityfoundations.ca/cfc_locations/edmonton-community-foundation/\n",
      "https://www.communityfoundations.ca/cfc_locations/red-deer-district-community-foundation/\n",
      "https://www.communityfoundations.ca/cfc_locations/st-albert-community-foundation/\n",
      "https://www.communityfoundations.ca/cfc_locations/the-calgary-foundation/\n",
      "https://www.communityfoundations.ca/cfc_locations/abbotsford-community-foundation/\n",
      "https://www.communityfoundations.ca/cfc_locations/alberni-valley-community-foundation/\n",
      "https://www.communityfoundations.ca/cfc_locations/kamloops-foundation/\n",
      "https://www.communityfoundations.ca/cfc_locations/bowen-island-community-foundation/\n",
      "https://www.communityfoundations.ca/cfc_locations/bulkley-valley-community-foundation/\n",
      "https://www.communityfoundations.ca/cfc_locations/campbell-river-community-foundation/\n",
      "https://www.communityfoundations.ca/cfc_locations/central-okanagan-foundation/\n",
      "https://www.communityfoundations.ca/cfc_locations/clayoquot-biosphere-trust/\n",
      "https://www.communityfoundations.ca/cfc_locations/columbia-valley-community-foundation/\n",
      "https://www.communityfoundations.ca/cfc_locations/community-foundation-of-castlegar-district/\n",
      "https://www.communityfoundations.ca/cfc_locations/cranbrook-district-community-foundation/\n",
      "https://www.communityfoundations.ca/cfc_locations/community-foundation-of-the-north-okanagan/\n",
      "https://www.communityfoundations.ca/cfc_locations/community-foundation-of-the-south-okanagan/\n",
      "https://www.communityfoundations.ca/cfc_locations/community-foundation-of-whistler/\n",
      "https://www.communityfoundations.ca/cfc_locations/comox-valley-community-foundation/\n",
      "https://www.communityfoundations.ca/cfc_locations/coquitlam-foundation/\n",
      "https://www.communityfoundations.ca/cfc_locations/creston-kootenay-foundation/\n",
      "https://www.communityfoundations.ca/cfc_locations/delta-foundation/\n",
      "https://www.communityfoundations.ca/cfc_locations/golden-district-community-foundation/\n",
      "https://www.communityfoundations.ca/cfc_locations/haida-gwaii-community-foundation/\n",
      "https://www.communityfoundations.ca/cfc_locations/kimberley-and-district-community-foundation/\n",
      "https://www.communityfoundations.ca/cfc_locations/kitimat-community-foundation/\n",
      "https://www.communityfoundations.ca/cfc_locations/leroi-community-foundation/\n",
      "https://www.communityfoundations.ca/cfc_locations/maple-ridge-community-foundation/\n",
      "https://www.communityfoundations.ca/cfc_locations/mission-community-foundation/\n",
      "https://www.communityfoundations.ca/cfc_locations/nakusp-and-area-community-foundation/\n",
      "https://www.communityfoundations.ca/cfc_locations/the-nanaimo-community-foundation/\n",
      "https://www.communityfoundations.ca/cfc_locations/north-shore-community-foundation/\n",
      "https://www.communityfoundations.ca/cfc_locations/north-thompson-communities-foundation/\n",
      "https://www.communityfoundations.ca/cfc_locations/northeast-regional-community-foundation/\n",
      "https://www.communityfoundations.ca/cfc_locations/osprey-community-foundation/\n",
      "https://www.communityfoundations.ca/cfc_locations/parksville-qualicum-foundation/\n",
      "https://www.communityfoundations.ca/cfc_locations/phoenix-foundation-of-the-boundary-communities/\n",
      "https://www.communityfoundations.ca/cfc_locations/pitt-meadows-community-foundation/\n",
      "https://www.communityfoundations.ca/cfc_locations/port-coquitlam-community-foundation/\n",
      "https://www.communityfoundations.ca/cfc_locations/port-moody-foundation/\n",
      "https://www.communityfoundations.ca/cfc_locations/powell-river-community-foundation/\n",
      "https://www.communityfoundations.ca/cfc_locations/prince-rupert-regional-community-foundation/\n",
      "https://www.communityfoundations.ca/cfc_locations/quesnel-community-foundation/\n",
      "https://www.communityfoundations.ca/cfc_locations/revelstoke-community-foundation/\n",
      "https://www.communityfoundations.ca/cfc_locations/richmond-community-foundation/\n",
      "https://www.communityfoundations.ca/cfc_locations/salt-spring-island-foundation/\n",
      "https://www.communityfoundations.ca/cfc_locations/shuswap-community-foundation/\n",
      "https://www.communityfoundations.ca/cfc_locations/squamish-community-foundation/\n",
      "https://www.communityfoundations.ca/cfc_locations/sunshine-coast-community-foundation/\n",
      "https://www.communityfoundations.ca/cfc_locations/surrey-cares/\n",
      "https://www.communityfoundations.ca/cfc_locations/the-prince-george-community-foundation/\n",
      "https://www.communityfoundations.ca/cfc_locations/thetis-island-community-fund/\n",
      "https://www.communityfoundations.ca/cfc_locations/vancouver-foundation/\n",
      "https://www.communityfoundations.ca/cfc_locations/victoria-foundation/\n",
      "https://www.communityfoundations.ca/cfc_locations/west-vancouver-community-foundation/\n",
      "https://www.communityfoundations.ca/cfc_locations/beautiful-plains-community-foundation-inc/\n",
      "https://www.communityfoundations.ca/cfc_locations/big-grass-community-foundation-inc/\n",
      "https://www.communityfoundations.ca/cfc_locations/birtle-and-district-foundation/\n",
      "https://www.communityfoundations.ca/cfc_locations/brandon-area-community-foundation-inc/\n",
      "https://www.communityfoundations.ca/cfc_locations/brokenhead-river-community-foundation-inc/\n",
      "https://www.communityfoundations.ca/cfc_locations/carberry-and-area-community-foundation-inc/\n",
      "https://www.communityfoundations.ca/cfc_locations/coldwell-community-foundation/\n",
      "https://www.communityfoundations.ca/cfc_locations/community-foundation-of-portage-and-district-inc/\n",
      "https://www.communityfoundations.ca/cfc_locations/community-foundation-of-swan-valley-inc/\n",
      "https://www.communityfoundations.ca/cfc_locations/cypress-river-area-foundation-inc/\n",
      "https://www.communityfoundations.ca/cfc_locations/dauphin-district-community-foundation/\n",
      "https://www.communityfoundations.ca/cfc_locations/elkhorn-area-foundation/\n",
      "https://www.communityfoundations.ca/cfc_locations/francofonds-la-fondation-communautaire-du-manitoba-francais/\n",
      "https://www.communityfoundations.ca/cfc_locations/grandview-district-community-foundation/\n",
      "https://www.communityfoundations.ca/cfc_locations/hamiota-community-foundation/\n",
      "https://www.communityfoundations.ca/cfc_locations/headingley-community-foundation/\n",
      "https://www.communityfoundations.ca/cfc_locations/holland-area-community-foundation-inc/\n",
      "https://www.communityfoundations.ca/cfc_locations/icelandic-river-community-foundation/\n",
      "https://www.communityfoundations.ca/cfc_locations/lac-du-bonnet-and-district-foundation/\n",
      "https://www.communityfoundations.ca/cfc_locations/living-legacy-community-foundation/\n",
      "https://www.communityfoundations.ca/cfc_locations/miami-and-area-foundation-inc/\n",
      "https://www.communityfoundations.ca/cfc_locations/minnedosa-district-foundation-inc/\n",
      "https://www.communityfoundations.ca/cfc_locations/morden-area-foundation-inc/\n",
      "https://www.communityfoundations.ca/cfc_locations/north-norfolk-macgregor-foundation-inc/\n",
      "https://www.communityfoundations.ca/cfc_locations/northern-neighbours-foundation-inc/\n",
      "https://www.communityfoundations.ca/cfc_locations/oak-lake-area-foundation-inc/\n",
      "https://www.communityfoundations.ca/cfc_locations/pembina-manitou-area-foundation-inc/\n",
      "https://www.communityfoundations.ca/cfc_locations/pilot-mound-district-foundation-inc/\n",
      "https://www.communityfoundations.ca/cfc_locations/pinawa-community-foundation-inc/\n",
      "https://www.communityfoundations.ca/cfc_locations/plum-coulee-community-foundation/\n",
      "https://www.communityfoundations.ca/cfc_locations/reston-and-area-foundation-inc/\n",
      "https://www.communityfoundations.ca/cfc_locations/rivers-and-area-community-foundation-inc/\n",
      "https://www.communityfoundations.ca/cfc_locations/roblin-district-community-foundation/\n"
     ]
    },
    {
     "name": "stdout",
     "output_type": "stream",
     "text": [
      "https://www.communityfoundations.ca/cfc_locations/selkirk-district-community-foundation/\n",
      "https://www.communityfoundations.ca/cfc_locations/shoal-lake-community-foundation/\n",
      "https://www.communityfoundations.ca/cfc_locations/souris-glenwood-foundation-inc/\n",
      "https://www.communityfoundations.ca/cfc_locations/sturgeon-community-foundation-inc/\n",
      "https://www.communityfoundations.ca/cfc_locations/the-altona-community-foundation-inc/\n",
      "https://www.communityfoundations.ca/cfc_locations/the-boissevain-and-morton-foundation-incorporated/\n",
      "https://www.communityfoundations.ca/cfc_locations/the-carman-area-foundation-inc/\n",
      "https://www.communityfoundations.ca/cfc_locations/the-cartwright-and-area-foundation-inc/\n",
      "https://www.communityfoundations.ca/cfc_locations/the-glenboro-area-foundation-inc/\n",
      "https://www.communityfoundations.ca/cfc_locations/the-interlake-community-foundation-inc/\n",
      "https://www.communityfoundations.ca/cfc_locations/the-killarney-foundation-inc/\n",
      "https://www.communityfoundations.ca/cfc_locations/the-morris-area-foundation-inc/\n",
      "https://www.communityfoundations.ca/cfc_locations/the-southwest-manitoba-regional-foundation/\n",
      "https://www.communityfoundations.ca/cfc_locations/the-steinbach-community-foundation-inc/\n",
      "https://www.communityfoundations.ca/cfc_locations/the-winnipeg-foundation/\n",
      "https://www.communityfoundations.ca/cfc_locations/thompson-community-foundation/\n",
      "https://www.communityfoundations.ca/cfc_locations/tiger-hills-community-foundation-inc/\n",
      "https://www.communityfoundations.ca/cfc_locations/virden-area-foundation-inc/\n",
      "https://www.communityfoundations.ca/cfc_locations/wawanesa-community-foundation-inc/\n",
      "https://www.communityfoundations.ca/cfc_locations/westshore-community-foundation-inc/\n",
      "https://www.communityfoundations.ca/cfc_locations/winkler-community-foundation-inc/\n",
      "https://www.communityfoundations.ca/cfc_locations/carleton-north-community-foundation/\n",
      "https://www.communityfoundations.ca/cfc_locations/fondation-communautaire-de-la-peninsule-acadienne-inc/\n",
      "https://www.communityfoundations.ca/cfc_locations/fredericton-community-foundation-inc/\n",
      "https://www.communityfoundations.ca/cfc_locations/fundy-community-foundation/\n",
      "https://www.communityfoundations.ca/cfc_locations/sussex-area-community-foundation-inc/\n",
      "https://www.communityfoundations.ca/cfc_locations/the-greater-saint-john-community-foundation/\n",
      "https://www.communityfoundations.ca/cfc_locations/community-foundation-of-newfoundland-and-labrador/\n",
      "https://www.communityfoundations.ca/cfc_locations/yellowknife-community-foundation/\n",
      "https://www.communityfoundations.ca/cfc_locations/community-foundation-of-nova-scotia/\n",
      "https://www.communityfoundations.ca/cfc_locations/rural-communities-foundation-of-nova-scotia/\n",
      "https://www.communityfoundations.ca/cfc_locations/ulnooweg-foundation/\n",
      "https://www.communityfoundations.ca/cfc_locations/aylmer-area-community-foundation/\n",
      "https://www.communityfoundations.ca/cfc_locations/barrie-community-foundation/\n",
      "https://www.communityfoundations.ca/cfc_locations/bradford-west-gwillimbury-and-district-community-foundation-bwgdcf/\n",
      "https://www.communityfoundations.ca/cfc_locations/brampton-and-area-community-foundation/\n",
      "https://www.communityfoundations.ca/cfc_locations/brant-community-foundation/\n",
      "https://www.communityfoundations.ca/cfc_locations/brockville-and-area-community-foundation/\n",
      "https://www.communityfoundations.ca/cfc_locations/burlington-community-foundation/\n",
      "https://www.communityfoundations.ca/cfc_locations/caledonia-community-foundation/\n",
      "https://www.communityfoundations.ca/cfc_locations/cambridge-north-dumfries-community-foundation/\n",
      "https://www.communityfoundations.ca/cfc_locations/campbellfordseymour-community-foundation/\n",
      "https://www.communityfoundations.ca/cfc_locations/centre-wellington-community-foundation/\n",
      "https://www.communityfoundations.ca/cfc_locations/community-foundation-for-kingston-area/\n",
      "https://www.communityfoundations.ca/cfc_locations/napanee-district-community-foundation/\n",
      "https://www.communityfoundations.ca/cfc_locations/community-foundation-grey-bruce/\n",
      "https://www.communityfoundations.ca/cfc_locations/community-foundation-of-greater-peterborough/\n",
      "https://www.communityfoundations.ca/cfc_locations/community-foundation-of-halton-north/\n",
      "https://www.communityfoundations.ca/cfc_locations/community-foundation-of-mississauga/\n",
      "https://www.communityfoundations.ca/cfc_locations/durham-community-foundation/\n",
      "https://www.communityfoundations.ca/cfc_locations/elgin-st-thomas-community-foundation/\n",
      "https://www.communityfoundations.ca/cfc_locations/fondation-communautaire-du-temiskaming/\n",
      "https://www.communityfoundations.ca/cfc_locations/forest-community-foundation/\n",
      "https://www.communityfoundations.ca/cfc_locations/grand-bend-community-foundation/\n",
      "https://www.communityfoundations.ca/cfc_locations/hamilton-community-foundation/\n",
      "https://www.communityfoundations.ca/cfc_locations/huronia-community-foundation-la-fondation-communautaire-de-la-huronie/\n",
      "https://www.communityfoundations.ca/cfc_locations/kenora-and-lake-of-the-woods-regional-community-foundation/\n",
      "https://www.communityfoundations.ca/cfc_locations/london-community-foundation/\n",
      "https://www.communityfoundations.ca/cfc_locations/muskoka-community-foundation/\n",
      "https://www.communityfoundations.ca/cfc_locations/niagara-community-foundation/\n",
      "https://www.communityfoundations.ca/cfc_locations/north-bay-and-area-community-foundation/\n",
      "https://www.communityfoundations.ca/cfc_locations/oakville-community-foundation/\n",
      "https://www.communityfoundations.ca/cfc_locations/community-foundation-of-ottawa-fondation-communautaire-dottawa/\n",
      "https://www.communityfoundations.ca/cfc_locations/oxford-community-foundation/\n",
      "https://www.communityfoundations.ca/cfc_locations/pembroke-petawawa-district-community-foundation/\n",
      "https://www.communityfoundations.ca/cfc_locations/sarnia-community-foundation/\n",
      "https://www.communityfoundations.ca/cfc_locations/stratford-and-perth-county-community-foundation/\n",
      "https://www.communityfoundations.ca/cfc_locations/sudbury-community-foundationfondation-communautaire-de-sudbury/\n",
      "https://www.communityfoundations.ca/cfc_locations/the-chatham-kent-community-foundation/\n",
      "https://www.communityfoundations.ca/cfc_locations/the-community-foundation-of-orillia-and-area/\n",
      "https://www.communityfoundations.ca/cfc_locations/prince-edward-county-community-foundation/\n",
      "https://www.communityfoundations.ca/cfc_locations/the-deep-river-and-district-community-foundation/\n",
      "https://www.communityfoundations.ca/cfc_locations/the-dufferin-community-foundation/\n",
      "https://www.communityfoundations.ca/cfc_locations/the-guelph-community-foundation/\n",
      "https://www.communityfoundations.ca/cfc_locations/the-kitchener-and-waterloo-community-foundation/\n",
      "https://www.communityfoundations.ca/cfc_locations/the-norfolk-community-foundation/\n",
      "https://www.communityfoundations.ca/cfc_locations/the-perth-and-district-community-foundation/\n",
      "https://www.communityfoundations.ca/cfc_locations/the-temagami-community-foundation/\n",
      "https://www.communityfoundations.ca/cfc_locations/the-temiskaming-foundation/\n",
      "https://www.communityfoundations.ca/cfc_locations/thunder-bay-community-foundation/\n",
      "https://www.communityfoundations.ca/cfc_locations/toronto-community-foundation/\n",
      "https://www.communityfoundations.ca/cfc_locations/windsoressex-community-foundation/\n",
      "https://www.communityfoundations.ca/cfc_locations/the-community-foundation-of-prince-edward-island/\n",
      "https://www.communityfoundations.ca/cfc_locations/la-fondation-communautaire-de-lestrie/\n",
      "https://www.communityfoundations.ca/cfc_locations/eenou-eeyou-community-foundation/\n",
      "https://www.communityfoundations.ca/cfc_locations/fondation-communautaire-de-labitibi-temiscamingue/\n",
      "https://www.communityfoundations.ca/cfc_locations/fondation-communautaire-de-lanaudi%c2%8fre/\n",
      "https://www.communityfoundations.ca/cfc_locations/fondation-communautaire-du-saguenay-lac-saint-jean/\n",
      "https://www.communityfoundations.ca/cfc_locations/fondation-communautaire-du-saint-maurice/\n",
      "https://www.communityfoundations.ca/cfc_locations/fondation-communautaire-gaspesie-les-eles/\n",
      "https://www.communityfoundations.ca/cfc_locations/fondation-laurentides/\n",
      "https://www.communityfoundations.ca/cfc_locations/fondation-communautaire-du-grand-quebec/\n",
      "https://www.communityfoundations.ca/cfc_locations/la-fondation-du-grand-montrzal-the-foundation-of-greater-montreal/\n"
     ]
    },
    {
     "name": "stdout",
     "output_type": "stream",
     "text": [
      "https://www.communityfoundations.ca/cfc_locations/battlefords-and-district-community-foundation-inc/\n",
      "https://www.communityfoundations.ca/cfc_locations/family-friends-community-foundation-inc/\n",
      "https://www.communityfoundations.ca/cfc_locations/prince-albert-and-area-community-foundation-inc/\n",
      "https://www.communityfoundations.ca/cfc_locations/saskatoon-community-foundation/\n",
      "https://www.communityfoundations.ca/cfc_locations/south-saskatchewan-community-foundation-inc/\n",
      "https://www.communityfoundations.ca/cfc_locations/the-yukon-foundation/\n"
     ]
    }
   ],
   "source": [
    "# Run only once, do not run again\n",
    "'''\n",
    "# Get urls container\n",
    "subresponse=[]\n",
    "\n",
    "html_soup = BeautifulSoup(response.text, 'html.parser')\n",
    "info_containers_all = html_soup.find_all([\"h2\", \"h3\"], \n",
    "                                         class_=lambda x: x != 'hidden')\n",
    "#print(len(info_containers_all))\n",
    "\n",
    "for lines in info_containers_all:\n",
    "    if lines.name == 'h3': \n",
    "        url_fou = lines.find_all(\"a\", href=re.compile(\"cfc_locations\"))[0].get('href')\n",
    "        print(url_fou)\n",
    "        subresponse.append(session.get(url_fou, headers=my_headers))\n",
    "        time.sleep(10)\n",
    "'''"
   ]
  },
  {
   "cell_type": "markdown",
   "metadata": {},
   "source": [
    "Below is an example of one of the containers' information that was scraped. "
   ]
  },
  {
   "cell_type": "code",
   "execution_count": 81,
   "metadata": {},
   "outputs": [],
   "source": [
    "#subresponse[10].text"
   ]
  },
  {
   "cell_type": "markdown",
   "metadata": {},
   "source": [
    "And just to check we scraped 195 pages:"
   ]
  },
  {
   "cell_type": "code",
   "execution_count": 90,
   "metadata": {},
   "outputs": [
    {
     "data": {
      "text/plain": [
       "195"
      ]
     },
     "execution_count": 90,
     "metadata": {},
     "output_type": "execute_result"
    }
   ],
   "source": [
    "len(subresponse)"
   ]
  },
  {
   "cell_type": "markdown",
   "metadata": {},
   "source": [
    "And before getting into the full script, here is a snippet about how the genderize library is used. A dictionary was created, since depending on the name the library returns either \"male\" or \"female\". However, we are looking to write \"Mr\". or \"Ms.\" to the file. This test case used the name \"John\", giving \"Mr.\""
   ]
  },
  {
   "cell_type": "code",
   "execution_count": 83,
   "metadata": {},
   "outputs": [
    {
     "name": "stdout",
     "output_type": "stream",
     "text": [
      "Mr.\n"
     ]
    }
   ],
   "source": [
    "genderDict = {\"male\": 'Mr.',\n",
    "              \"female\": 'Ms.'}\n",
    "gen = Genderize().get(['John'])[0]['gender']\n",
    "print(genderDict.get(gen, \"None\"))"
   ]
  },
  {
   "cell_type": "markdown",
   "metadata": {},
   "source": [
    "The full script is below. (Pretty much just stitching together the parts discussed above.)"
   ]
  },
  {
   "cell_type": "code",
   "execution_count": 86,
   "metadata": {},
   "outputs": [
    {
     "name": "stdout",
     "output_type": "stream",
     "text": [
      "195\n",
      "195\n",
      "195\n",
      "195\n",
      "195\n",
      "195\n",
      "195\n",
      "195\n",
      "195\n",
      "195\n",
      "195\n"
     ]
    }
   ],
   "source": [
    "# Creating containers for the information that will be written to file.\n",
    "organization = []\n",
    "person = []\n",
    "person_title = []\n",
    "street = []\n",
    "pobox = []\n",
    "municipality = []\n",
    "provinces = []\n",
    "postalCode = []\n",
    "phone = []\n",
    "org_url = []\n",
    "gender_title = []\n",
    "\n",
    "# A dictionary so that we use the two letter abbreviation for the mailing addresses.\n",
    "provincesDict = {\"Alberta\": 'AB', \n",
    "                 \"British Columbia\": 'BC',\n",
    "                 \"Manitoba\": 'MB',\n",
    "                 \"New Brunswick\": 'NB',\n",
    "                 \"Newfoundland and Labrador\": \"NL\",\n",
    "                 \"Northwest Territories\": 'NT',\n",
    "                 \"Nova Scotia\": 'NS',\n",
    "                 \"Ontario\": 'ON',\n",
    "                 \"Prince Edward Island\": 'PE',\n",
    "                 \"Québec\": \"QC\",\n",
    "                 \"Saskatchewan\": 'SK',\n",
    "                 \"Yukon\": 'YT',\n",
    "                 \"Nunavut\": 'NU',\n",
    "                 \"AB\": 'AB'\n",
    "                }\n",
    "\n",
    "genderDict = {\"male\": 'Mr.',\n",
    "             \"female\": 'Ms.'}\n",
    "\n",
    "html_soup = BeautifulSoup(response.text, 'html.parser')\n",
    "info_containers_all = html_soup.find_all([\"h2\", \"h3\"], \n",
    "                                         class_=lambda x: x != 'hidden')\n",
    "#print(type(info_containers_all))\n",
    "#print(len(info_containers_all))\n",
    "\n",
    "counter = 0\n",
    "\n",
    "html_subsoup=[]\n",
    "\n",
    "for lines in info_containers_all:\n",
    "    if lines.name == 'h2': \n",
    "        province = lines.text\n",
    "        #print ('In Province', lines.text)\n",
    "        \n",
    "    if lines.name == 'h3': \n",
    "        #print('Foundation: ', lines.text)\n",
    "        foundation = lines.text\n",
    "        organization.append(foundation)\n",
    "                \n",
    "        html_subsoup.append(BeautifulSoup(subresponse[counter].text, \n",
    "                                          'html.parser'))\n",
    "        \n",
    "        # Get Address\n",
    "        c_location = html_subsoup[counter].find_all(\n",
    "            'p', class_ = 'meta-line location')\n",
    " \n",
    "        address_array = re.split(r' \\| ', c_location[0].text)\n",
    "        # If three pieces, it does not have P.O. Box\n",
    "        #print(\"address_array length: \", len(address_array))\n",
    "        for i in range(0,len(address_array)):\n",
    "            address_array[i] = address_array[i].strip()\n",
    "            #print(address_array[i])\n",
    "        if len(address_array) == 3:\n",
    "            municipality.append(address_array[1])\n",
    "            provinces.append(provincesDict.get(province, \"None\"))\n",
    "            postalCode.append(address_array[2])\n",
    "            \n",
    "            if \"box\" in address_array[0].lower():\n",
    "                #print(address_array[0], \" has Box\")\n",
    "                if \",\" in address_array[0]:\n",
    "                    #print(address_array[0], \" is not only a po box \")\n",
    "                    # Split by comma\n",
    "                    # Find which one has the box, assign accordingly\n",
    "                    sub_address = address_array[0].split(',', 1)\n",
    "                    for i in range(0,len(sub_address)):\n",
    "                        sub_address[i] = sub_address[i].strip()\n",
    "                        #print(sub_address[i])\n",
    "                        if \"box\" in sub_address[i].lower():\n",
    "                            pobox.append(sub_address[i])\n",
    "                        else:\n",
    "                            street.append(sub_address[i])\n",
    "                else:\n",
    "                    street.append('')\n",
    "                    pobox.append(address_array[0])\n",
    "                    \n",
    "            else: \n",
    "                street.append(address_array[0])\n",
    "                pobox.append('')\n",
    "        else:\n",
    "            print(\"Something went wrong with address for foundation: \",\n",
    "                  foundation)\n",
    "         \n",
    "        # Get person\n",
    "        c_contact = html_subsoup[counter].find_all(\n",
    "                                      'p', class_='meta-line contact')\n",
    "        if len(c_contact) > 0: \n",
    "            #Means name consists of 'name, position'\n",
    "            nameArray = re.split(r', ', c_contact[0].text) \n",
    "            #Means name consists of 'name - position'\n",
    "            if \" - \" in c_contact[0].text: \n",
    "                nameArray = re.split(r' - ', c_contact[0].text)\n",
    "\n",
    "            for i in range(0,len(nameArray)):\n",
    "                #print(len(nameArray))\n",
    "                nameArray[i] = nameArray[i].strip()\n",
    "                nameArray[i] = nameArray[i].strip(',')\n",
    "\n",
    "            if len(nameArray) == 1:\n",
    "                name = nameArray[0]\n",
    "                person.append(name)\n",
    "                person_title.append('')\n",
    "            elif len(nameArray) == 2:\n",
    "                name = nameArray[0]\n",
    "                person.append(name)      \n",
    "                name.strip('\\'')\n",
    "                person_title.append(nameArray[1])\n",
    "            else:\n",
    "                print(\"Something went wrong with person's name for foundation: \", foundation)\n",
    "                \n",
    "            if len(nameArray) == 1 or len(nameArray) == 2:\n",
    "                first_name = name.split(' ')\n",
    "                if len(first_name) <= 3: \n",
    "                    gen = Genderize().get([first_name[0]])[0]['gender']\n",
    "                    #print(gen)\n",
    "                    gender_title.append(genderDict.get(gen, \"\"))\n",
    "                    # In case it is easier to look for the word \"None\"\n",
    "                    #print(genderDict.get(gen, \"None\")) \n",
    "                elif \".\" in c_contact[0].text:\n",
    "                    gender_title.append(first_name[0])\n",
    "                else: \n",
    "                    print(\"Something went wrong with person's gender for foundation: \", foundation)\n",
    "            else:\n",
    "                gender_title.append('')\n",
    "                \n",
    "        else:\n",
    "            person.append('')      \n",
    "            person_title.append('')\n",
    "            gender_title.append('')\n",
    "            \n",
    "        # Get phone\n",
    "        c_phone = html_subsoup[counter].find_all('p', \n",
    "                                            class_='meta-line phone')\n",
    "        if len(c_phone) > 0: \n",
    "            phone.append(c_phone[0].text)\n",
    "        else:\n",
    "            phone.append('')\n",
    "            \n",
    "        # Get website\n",
    "        c_org_url = html_subsoup[counter].find_all('p', \n",
    "                                            class_='meta-line link')\n",
    "        if len(c_org_url) > 0: \n",
    "            org_url.append(c_org_url[0].text)\n",
    "        else:\n",
    "            org_url.append('')\n",
    "                  \n",
    "        #print(\"Counter: \", counter)\n",
    "        #print(\"Currently at: \", foundation)\n",
    "        counter += 1\n",
    "\n",
    "# Making sure all the containers have equal length\n",
    "print(len(gender_title))\n",
    "print(len(organization))\n",
    "print(len(person))\n",
    "print(len(person_title))\n",
    "print(len(street))\n",
    "print(len(pobox))\n",
    "print(len(municipality))\n",
    "print(len(provinces))\n",
    "print(len(postalCode))\n",
    "print(len(phone))\n",
    "print(len(org_url))\n"
   ]
  },
  {
   "cell_type": "markdown",
   "metadata": {},
   "source": [
    "Now let's write all to a csv file in the format requested by the company."
   ]
  },
  {
   "cell_type": "code",
   "execution_count": 88,
   "metadata": {},
   "outputs": [
    {
     "name": "stdout",
     "output_type": "stream",
     "text": [
      "<class 'pandas.core.frame.DataFrame'>\n",
      "RangeIndex: 195 entries, 0 to 194\n",
      "Data columns (total 11 columns):\n",
      "Additional Info (Addressee Job Title, Dept, Etc.)                       195 non-null object\n",
      "Addressee (First Name, Last Name)                                       195 non-null object\n",
      "Civic Address 1 (Apt/Suite #, Building #, Street Name)                  195 non-null object\n",
      "Civic Address 2 (PO Box #/RR #, or GD (General Delivery) and STN ID)    195 non-null object\n",
      "Municipality                                                            195 non-null object\n",
      "Organization                                                            195 non-null object\n",
      "Phone                                                                   195 non-null object\n",
      "Postal Code                                                             195 non-null object\n",
      "Province or Territory                                                   195 non-null object\n",
      "Title                                                                   195 non-null object\n",
      "Website                                                                 195 non-null object\n",
      "dtypes: object(11)\n",
      "memory usage: 16.8+ KB\n",
      "None\n"
     ]
    }
   ],
   "source": [
    "# Put the info into frame\n",
    "test_df = pd.DataFrame({'Organization': organization,\n",
    "        'Title': gender_title,\n",
    "        'Addressee (First Name, Last Name)': person,\n",
    "        'Additional Info (Addressee Job Title, Dept, Etc.)': person_title,\n",
    "        'Civic Address 1 (Apt/Suite #, Building #, Street Name)': street,\n",
    "        'Civic Address 2 (PO Box #/RR #, or GD (General Delivery) and STN ID)': pobox,\n",
    "        'Municipality': municipality,\n",
    "        'Province or Territory': provinces, \n",
    "        'Postal Code': postalCode,\n",
    "        'Phone': phone,\n",
    "        'Website': org_url\n",
    "        })\n",
    "print(test_df.info())\n",
    "test_df\n",
    "\n",
    "cols = ['Organization',\n",
    "        'Title',\n",
    "        'Addressee (First Name, Last Name)',\n",
    "        'Additional Info (Addressee Job Title, Dept, Etc.)',\n",
    "        'Civic Address 1 (Apt/Suite #, Building #, Street Name)',\n",
    "        'Civic Address 2 (PO Box #/RR #, or GD (General Delivery) and STN ID)',\n",
    "        'Municipality',\n",
    "        'Province or Territory', \n",
    "        'Postal Code',\n",
    "        'Phone',\n",
    "        'Website'\n",
    "        ]\n",
    "\n",
    "# Use pandas to write to csv\n",
    "test_df.to_csv('data/cfcMailingAddresses.csv', \n",
    "               encoding='utf-8', index=False, columns=cols)\n"
   ]
  },
  {
   "cell_type": "markdown",
   "metadata": {},
   "source": [
    "There is room for improvement. The code did not account for French titles, M or Mme, an address had the municipality twice in it, and a name already had a \"Ms.\" and we did not check for duplications. Also, few names were not identified as male of female. Overall, the code accomplished what was asked."
   ]
  },
  {
   "cell_type": "code",
   "execution_count": null,
   "metadata": {},
   "outputs": [],
   "source": []
  }
 ],
 "metadata": {
  "kernelspec": {
   "display_name": "Python 3",
   "language": "python",
   "name": "python3"
  },
  "language_info": {
   "codemirror_mode": {
    "name": "ipython",
    "version": 3
   },
   "file_extension": ".py",
   "mimetype": "text/x-python",
   "name": "python",
   "nbconvert_exporter": "python",
   "pygments_lexer": "ipython3",
   "version": "3.5.6"
  }
 },
 "nbformat": 4,
 "nbformat_minor": 2
}
